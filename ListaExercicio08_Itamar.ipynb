{
 "cells": [
  {
   "cell_type": "markdown",
   "id": "0e98d53b",
   "metadata": {},
   "source": [
    "# 1. Determine se os dados são qualitativos ou quantitativos. Explique seu raciocínio."
   ]
  },
  {
   "cell_type": "markdown",
   "id": "76ab7bc8",
   "metadata": {},
   "source": [
    "(a) Alturas de balões de ar quente;"
   ]
  },
  {
   "cell_type": "markdown",
   "id": "3ff7ebcc",
   "metadata": {},
   "source": [
    "    Dados quantitativos contínuos, pois altura é relativo à distância do solo, expresso numericamente."
   ]
  },
  {
   "cell_type": "markdown",
   "id": "5246788c",
   "metadata": {},
   "source": [
    "(b) Capacidades de carga de caminhonetes;"
   ]
  },
  {
   "cell_type": "markdown",
   "id": "c7ae0e62",
   "metadata": {},
   "source": [
    "    São dados quantitativos contínuos, pois a capacidade de carga por ser expressa através de números (0,9 tonelada, 1000kg, 1 m³, etc)."
   ]
  },
  {
   "cell_type": "markdown",
   "id": "536bb0a6",
   "metadata": {},
   "source": [
    "(c) Cores dos olhos de modelos;"
   ]
  },
  {
   "cell_type": "markdown",
   "id": "71b42762",
   "metadata": {},
   "source": [
    "    São dados qualitativos nominais, pois representa qualidades dos olhos, que nesse caso é a cor."
   ]
  },
  {
   "cell_type": "markdown",
   "id": "e037f2a3",
   "metadata": {},
   "source": [
    "(d) Números de identidade de estudantes;"
   ]
  },
  {
   "cell_type": "markdown",
   "id": "0cf8e5a7",
   "metadata": {},
   "source": [
    "    Apesar de envolver números, é considerado um dado qualitativo nominal, visto que é possível atribuir operação matemática diretamente sobre tais dados."
   ]
  },
  {
   "cell_type": "markdown",
   "id": "74d6ca85",
   "metadata": {},
   "source": [
    "(e) Respostas em uma pesquisa de opinião."
   ]
  },
  {
   "cell_type": "markdown",
   "id": "243d8547",
   "metadata": {},
   "source": [
    "    Pesquisas de opinião é um exemplo de dados qualitativos ordinais, visto que são dados inerentes à qualidade que pode ser usado para comparar e atribuir ordem."
   ]
  },
  {
   "cell_type": "markdown",
   "id": "ce715535",
   "metadata": {},
   "source": [
    "# 2. Na tabela abaixo temos informações sobre o sexo, a matéria predileta (Português, Matemática, História, Geografia ou Ciências) no 2 o grau e a nota (número de questões certas) em um teste de múltipla escolha com 10 questões de matemática, ministrado no primeiro dia de aula dos calouros de Administração de uma universidade (dados fictícios).\n"
   ]
  },
  {
   "cell_type": "raw",
   "id": "53cd4d13",
   "metadata": {},
   "source": [
    "(a) Classifique as variáveis envolvidas;"
   ]
  },
  {
   "cell_type": "markdown",
   "id": "19f08c7e",
   "metadata": {},
   "source": [
    "    a) Sexo e matéria predileta são dados qualitativos nominais enquanto a nota, neste caso, é um dado quantitativo discreto."
   ]
  },
  {
   "cell_type": "markdown",
   "id": "dcfa83ed",
   "metadata": {},
   "source": [
    "(b) Construa a tabela de freqüências apropriada para cada uma das variáveis qualitativas."
   ]
  },
  {
   "cell_type": "code",
   "execution_count": 2,
   "id": "30ebe422",
   "metadata": {},
   "outputs": [],
   "source": [
    "import pandas as pd\n",
    "import numpy as np"
   ]
  },
  {
   "cell_type": "code",
   "execution_count": 6,
   "id": "0cd3d90e",
   "metadata": {},
   "outputs": [
    {
     "data": {
      "text/html": [
       "<div>\n",
       "<style scoped>\n",
       "    .dataframe tbody tr th:only-of-type {\n",
       "        vertical-align: middle;\n",
       "    }\n",
       "\n",
       "    .dataframe tbody tr th {\n",
       "        vertical-align: top;\n",
       "    }\n",
       "\n",
       "    .dataframe thead th {\n",
       "        text-align: right;\n",
       "    }\n",
       "</style>\n",
       "<table border=\"1\" class=\"dataframe\">\n",
       "  <thead>\n",
       "    <tr style=\"text-align: right;\">\n",
       "      <th></th>\n",
       "      <th>Sexo</th>\n",
       "      <th>Predileta</th>\n",
       "      <th>Nota</th>\n",
       "    </tr>\n",
       "  </thead>\n",
       "  <tbody>\n",
       "    <tr>\n",
       "      <th>0</th>\n",
       "      <td>F</td>\n",
       "      <td>H</td>\n",
       "      <td>5</td>\n",
       "    </tr>\n",
       "    <tr>\n",
       "      <th>1</th>\n",
       "      <td>M</td>\n",
       "      <td>M</td>\n",
       "      <td>8</td>\n",
       "    </tr>\n",
       "    <tr>\n",
       "      <th>2</th>\n",
       "      <td>F</td>\n",
       "      <td>P</td>\n",
       "      <td>8</td>\n",
       "    </tr>\n",
       "    <tr>\n",
       "      <th>3</th>\n",
       "      <td>F</td>\n",
       "      <td>H</td>\n",
       "      <td>6</td>\n",
       "    </tr>\n",
       "    <tr>\n",
       "      <th>4</th>\n",
       "      <td>M</td>\n",
       "      <td>C</td>\n",
       "      <td>5</td>\n",
       "    </tr>\n",
       "    <tr>\n",
       "      <th>5</th>\n",
       "      <td>M</td>\n",
       "      <td>H</td>\n",
       "      <td>6</td>\n",
       "    </tr>\n",
       "    <tr>\n",
       "      <th>6</th>\n",
       "      <td>F</td>\n",
       "      <td>M</td>\n",
       "      <td>8</td>\n",
       "    </tr>\n",
       "    <tr>\n",
       "      <th>7</th>\n",
       "      <td>F</td>\n",
       "      <td>P</td>\n",
       "      <td>4</td>\n",
       "    </tr>\n",
       "    <tr>\n",
       "      <th>8</th>\n",
       "      <td>F</td>\n",
       "      <td>H</td>\n",
       "      <td>2</td>\n",
       "    </tr>\n",
       "    <tr>\n",
       "      <th>9</th>\n",
       "      <td>M</td>\n",
       "      <td>C</td>\n",
       "      <td>6</td>\n",
       "    </tr>\n",
       "    <tr>\n",
       "      <th>10</th>\n",
       "      <td>F</td>\n",
       "      <td>P</td>\n",
       "      <td>8</td>\n",
       "    </tr>\n",
       "    <tr>\n",
       "      <th>11</th>\n",
       "      <td>M</td>\n",
       "      <td>M</td>\n",
       "      <td>2</td>\n",
       "    </tr>\n",
       "    <tr>\n",
       "      <th>12</th>\n",
       "      <td>M</td>\n",
       "      <td>G</td>\n",
       "      <td>4</td>\n",
       "    </tr>\n",
       "    <tr>\n",
       "      <th>13</th>\n",
       "      <td>M</td>\n",
       "      <td>G</td>\n",
       "      <td>9</td>\n",
       "    </tr>\n",
       "    <tr>\n",
       "      <th>14</th>\n",
       "      <td>M</td>\n",
       "      <td>M</td>\n",
       "      <td>7</td>\n",
       "    </tr>\n",
       "    <tr>\n",
       "      <th>15</th>\n",
       "      <td>M</td>\n",
       "      <td>M</td>\n",
       "      <td>1</td>\n",
       "    </tr>\n",
       "    <tr>\n",
       "      <th>16</th>\n",
       "      <td>F</td>\n",
       "      <td>P</td>\n",
       "      <td>8</td>\n",
       "    </tr>\n",
       "    <tr>\n",
       "      <th>17</th>\n",
       "      <td>F</td>\n",
       "      <td>G</td>\n",
       "      <td>5</td>\n",
       "    </tr>\n",
       "    <tr>\n",
       "      <th>18</th>\n",
       "      <td>M</td>\n",
       "      <td>G</td>\n",
       "      <td>9</td>\n",
       "    </tr>\n",
       "    <tr>\n",
       "      <th>19</th>\n",
       "      <td>M</td>\n",
       "      <td>P</td>\n",
       "      <td>5</td>\n",
       "    </tr>\n",
       "    <tr>\n",
       "      <th>20</th>\n",
       "      <td>F</td>\n",
       "      <td>M</td>\n",
       "      <td>8</td>\n",
       "    </tr>\n",
       "    <tr>\n",
       "      <th>21</th>\n",
       "      <td>F</td>\n",
       "      <td>G</td>\n",
       "      <td>6</td>\n",
       "    </tr>\n",
       "    <tr>\n",
       "      <th>22</th>\n",
       "      <td>M</td>\n",
       "      <td>H</td>\n",
       "      <td>3</td>\n",
       "    </tr>\n",
       "    <tr>\n",
       "      <th>23</th>\n",
       "      <td>M</td>\n",
       "      <td>M</td>\n",
       "      <td>5</td>\n",
       "    </tr>\n",
       "    <tr>\n",
       "      <th>24</th>\n",
       "      <td>F</td>\n",
       "      <td>P</td>\n",
       "      <td>5</td>\n",
       "    </tr>\n",
       "    <tr>\n",
       "      <th>25</th>\n",
       "      <td>F</td>\n",
       "      <td>G</td>\n",
       "      <td>5</td>\n",
       "    </tr>\n",
       "    <tr>\n",
       "      <th>26</th>\n",
       "      <td>M</td>\n",
       "      <td>C</td>\n",
       "      <td>7</td>\n",
       "    </tr>\n",
       "    <tr>\n",
       "      <th>27</th>\n",
       "      <td>M</td>\n",
       "      <td>H</td>\n",
       "      <td>4</td>\n",
       "    </tr>\n",
       "    <tr>\n",
       "      <th>28</th>\n",
       "      <td>F</td>\n",
       "      <td>M</td>\n",
       "      <td>7</td>\n",
       "    </tr>\n",
       "    <tr>\n",
       "      <th>29</th>\n",
       "      <td>F</td>\n",
       "      <td>P</td>\n",
       "      <td>7</td>\n",
       "    </tr>\n",
       "    <tr>\n",
       "      <th>30</th>\n",
       "      <td>F</td>\n",
       "      <td>M</td>\n",
       "      <td>6</td>\n",
       "    </tr>\n",
       "    <tr>\n",
       "      <th>31</th>\n",
       "      <td>M</td>\n",
       "      <td>G</td>\n",
       "      <td>6</td>\n",
       "    </tr>\n",
       "    <tr>\n",
       "      <th>32</th>\n",
       "      <td>M</td>\n",
       "      <td>H</td>\n",
       "      <td>9</td>\n",
       "    </tr>\n",
       "    <tr>\n",
       "      <th>33</th>\n",
       "      <td>F</td>\n",
       "      <td>M</td>\n",
       "      <td>8</td>\n",
       "    </tr>\n",
       "    <tr>\n",
       "      <th>34</th>\n",
       "      <td>M</td>\n",
       "      <td>P</td>\n",
       "      <td>5</td>\n",
       "    </tr>\n",
       "    <tr>\n",
       "      <th>35</th>\n",
       "      <td>M</td>\n",
       "      <td>G</td>\n",
       "      <td>6</td>\n",
       "    </tr>\n",
       "    <tr>\n",
       "      <th>36</th>\n",
       "      <td>F</td>\n",
       "      <td>M</td>\n",
       "      <td>7</td>\n",
       "    </tr>\n",
       "    <tr>\n",
       "      <th>37</th>\n",
       "      <td>M</td>\n",
       "      <td>P</td>\n",
       "      <td>5</td>\n",
       "    </tr>\n",
       "    <tr>\n",
       "      <th>38</th>\n",
       "      <td>F</td>\n",
       "      <td>M</td>\n",
       "      <td>5</td>\n",
       "    </tr>\n",
       "    <tr>\n",
       "      <th>39</th>\n",
       "      <td>F</td>\n",
       "      <td>M</td>\n",
       "      <td>5</td>\n",
       "    </tr>\n",
       "    <tr>\n",
       "      <th>40</th>\n",
       "      <td>F</td>\n",
       "      <td>P</td>\n",
       "      <td>9</td>\n",
       "    </tr>\n",
       "    <tr>\n",
       "      <th>41</th>\n",
       "      <td>M</td>\n",
       "      <td>M</td>\n",
       "      <td>8</td>\n",
       "    </tr>\n",
       "  </tbody>\n",
       "</table>\n",
       "</div>"
      ],
      "text/plain": [
       "   Sexo Predileta  Nota\n",
       "0     F         H     5\n",
       "1     M         M     8\n",
       "2     F         P     8\n",
       "3     F         H     6\n",
       "4     M         C     5\n",
       "5     M         H     6\n",
       "6     F         M     8\n",
       "7     F         P     4\n",
       "8     F         H     2\n",
       "9     M         C     6\n",
       "10    F         P     8\n",
       "11    M         M     2\n",
       "12    M         G     4\n",
       "13    M         G     9\n",
       "14    M         M     7\n",
       "15    M         M     1\n",
       "16    F         P     8\n",
       "17    F         G     5\n",
       "18    M         G     9\n",
       "19    M         P     5\n",
       "20    F         M     8\n",
       "21    F         G     6\n",
       "22    M         H     3\n",
       "23    M         M     5\n",
       "24    F         P     5\n",
       "25    F         G     5\n",
       "26    M         C     7\n",
       "27    M         H     4\n",
       "28    F         M     7\n",
       "29    F         P     7\n",
       "30    F         M     6\n",
       "31    M         G     6\n",
       "32    M         H     9\n",
       "33    F         M     8\n",
       "34    M         P     5\n",
       "35    M         G     6\n",
       "36    F         M     7\n",
       "37    M         P     5\n",
       "38    F         M     5\n",
       "39    F         M     5\n",
       "40    F         P     9\n",
       "41    M         M     8"
      ]
     },
     "execution_count": 6,
     "metadata": {},
     "output_type": "execute_result"
    }
   ],
   "source": [
    "df = pd.read_csv(\"C:/Users/itama/Downloads/Questao_2.csv\", sep=';', decimal=',')\n",
    "df"
   ]
  },
  {
   "cell_type": "markdown",
   "id": "66fefa21",
   "metadata": {},
   "source": [
    "    Frequência absoluta da variável qualitativa \"sexo\""
   ]
  },
  {
   "cell_type": "code",
   "execution_count": 8,
   "id": "f4e5380d",
   "metadata": {},
   "outputs": [
    {
     "data": {
      "text/plain": [
       "M    21\n",
       "F    21\n",
       "Name: Sexo, dtype: int64"
      ]
     },
     "execution_count": 8,
     "metadata": {},
     "output_type": "execute_result"
    }
   ],
   "source": [
    "df['Sexo'].value_counts()"
   ]
  },
  {
   "cell_type": "markdown",
   "id": "c2503a93",
   "metadata": {},
   "source": [
    "    Frequência relativa da variável nominal\"sexo\""
   ]
  },
  {
   "cell_type": "code",
   "execution_count": 9,
   "id": "edfd1fa1",
   "metadata": {},
   "outputs": [
    {
     "data": {
      "text/plain": [
       "M    50.0\n",
       "F    50.0\n",
       "Name: Sexo, dtype: float64"
      ]
     },
     "execution_count": 9,
     "metadata": {},
     "output_type": "execute_result"
    }
   ],
   "source": [
    "df['Sexo'].value_counts(normalize=True)*100"
   ]
  },
  {
   "cell_type": "markdown",
   "id": "3dd3ddef",
   "metadata": {},
   "source": [
    "    Frequência absoluta da variável nomninal \"predileta\""
   ]
  },
  {
   "cell_type": "code",
   "execution_count": 10,
   "id": "eef74d13",
   "metadata": {},
   "outputs": [
    {
     "data": {
      "text/plain": [
       "M    14\n",
       "P    10\n",
       "G     8\n",
       "H     7\n",
       "C     3\n",
       "Name: Predileta, dtype: int64"
      ]
     },
     "execution_count": 10,
     "metadata": {},
     "output_type": "execute_result"
    }
   ],
   "source": [
    "df['Predileta'].value_counts()"
   ]
  },
  {
   "cell_type": "markdown",
   "id": "6eea31f4",
   "metadata": {},
   "source": [
    "    Frequência relativa da variável nomninal \"predileta\""
   ]
  },
  {
   "cell_type": "code",
   "execution_count": 11,
   "id": "de6daaee",
   "metadata": {},
   "outputs": [
    {
     "data": {
      "text/plain": [
       "M    33.333333\n",
       "P    23.809524\n",
       "G    19.047619\n",
       "H    16.666667\n",
       "C     7.142857\n",
       "Name: Predileta, dtype: float64"
      ]
     },
     "execution_count": 11,
     "metadata": {},
     "output_type": "execute_result"
    }
   ],
   "source": [
    "df['Predileta'].value_counts(normalize=True)*100"
   ]
  },
  {
   "cell_type": "markdown",
   "id": "73a2fab9",
   "metadata": {},
   "source": [
    "# 3. Considere os dados da tabela abaixo, referentes a um levantamento feito por professores da Universidade Federal de Santa Catarina (UFSC), onde o principal objetivo era avaliar os efeitos políticos dos programas de alimentação popular. Aqui temos dados referentes a 40 famílias residentes no Conjunto Residencial Monte Verde, considerando as seguintes variáveis:\n",
    "\n",
    "• PAP: variável indicadora de uso de programas de alimentação (1 = Sim; 0 = Não);\n",
    "\n",
    "• GI: grau de instrução do chefe da casa (1 = nenhum grau oficialmente completo; 2 = primeiro grau completo; 3 = segundo grau completo);\n",
    "\n",
    "• RES: número de pessoas residentes na casa;\n",
    "\n",
    "• RENDA: renda familiar mensal, em salários mínimos."
   ]
  },
  {
   "cell_type": "markdown",
   "id": "402ccfc8",
   "metadata": {},
   "source": [
    "(a) Classifique as variáveis envolvidas;"
   ]
  },
  {
   "cell_type": "markdown",
   "id": "9db84892",
   "metadata": {},
   "source": [
    "    PAP - variável qualitativa nominal, GI - variável qualitativa ordinal, RES - variável quantitativa discreta, RENDA - variável quantitativa contínua."
   ]
  },
  {
   "cell_type": "markdown",
   "id": "72ef0529",
   "metadata": {},
   "source": [
    "(b) Construa a tabela de freqüências apropriada para cada uma das variáveis qualitativas."
   ]
  },
  {
   "cell_type": "code",
   "execution_count": 13,
   "id": "a0c5156d",
   "metadata": {},
   "outputs": [
    {
     "data": {
      "text/html": [
       "<div>\n",
       "<style scoped>\n",
       "    .dataframe tbody tr th:only-of-type {\n",
       "        vertical-align: middle;\n",
       "    }\n",
       "\n",
       "    .dataframe tbody tr th {\n",
       "        vertical-align: top;\n",
       "    }\n",
       "\n",
       "    .dataframe thead th {\n",
       "        text-align: right;\n",
       "    }\n",
       "</style>\n",
       "<table border=\"1\" class=\"dataframe\">\n",
       "  <thead>\n",
       "    <tr style=\"text-align: right;\">\n",
       "      <th></th>\n",
       "      <th>Ident</th>\n",
       "      <th>PAP</th>\n",
       "      <th>GI</th>\n",
       "      <th>RES</th>\n",
       "      <th>RENDA</th>\n",
       "    </tr>\n",
       "  </thead>\n",
       "  <tbody>\n",
       "    <tr>\n",
       "      <th>0</th>\n",
       "      <td>1</td>\n",
       "      <td>0</td>\n",
       "      <td>3</td>\n",
       "      <td>4</td>\n",
       "      <td>10.3</td>\n",
       "    </tr>\n",
       "    <tr>\n",
       "      <th>1</th>\n",
       "      <td>2</td>\n",
       "      <td>0</td>\n",
       "      <td>3</td>\n",
       "      <td>4</td>\n",
       "      <td>15.4</td>\n",
       "    </tr>\n",
       "    <tr>\n",
       "      <th>2</th>\n",
       "      <td>3</td>\n",
       "      <td>1</td>\n",
       "      <td>2</td>\n",
       "      <td>4</td>\n",
       "      <td>9.6</td>\n",
       "    </tr>\n",
       "    <tr>\n",
       "      <th>3</th>\n",
       "      <td>4</td>\n",
       "      <td>0</td>\n",
       "      <td>2</td>\n",
       "      <td>5</td>\n",
       "      <td>5.5</td>\n",
       "    </tr>\n",
       "    <tr>\n",
       "      <th>4</th>\n",
       "      <td>5</td>\n",
       "      <td>1</td>\n",
       "      <td>3</td>\n",
       "      <td>4</td>\n",
       "      <td>9.0</td>\n",
       "    </tr>\n",
       "    <tr>\n",
       "      <th>5</th>\n",
       "      <td>6</td>\n",
       "      <td>1</td>\n",
       "      <td>1</td>\n",
       "      <td>1</td>\n",
       "      <td>2.4</td>\n",
       "    </tr>\n",
       "    <tr>\n",
       "      <th>6</th>\n",
       "      <td>7</td>\n",
       "      <td>0</td>\n",
       "      <td>3</td>\n",
       "      <td>2</td>\n",
       "      <td>4.1</td>\n",
       "    </tr>\n",
       "    <tr>\n",
       "      <th>7</th>\n",
       "      <td>8</td>\n",
       "      <td>1</td>\n",
       "      <td>3</td>\n",
       "      <td>3</td>\n",
       "      <td>8.4</td>\n",
       "    </tr>\n",
       "    <tr>\n",
       "      <th>8</th>\n",
       "      <td>9</td>\n",
       "      <td>1</td>\n",
       "      <td>3</td>\n",
       "      <td>6</td>\n",
       "      <td>10.3</td>\n",
       "    </tr>\n",
       "    <tr>\n",
       "      <th>9</th>\n",
       "      <td>10</td>\n",
       "      <td>1</td>\n",
       "      <td>2</td>\n",
       "      <td>4</td>\n",
       "      <td>4.6</td>\n",
       "    </tr>\n",
       "    <tr>\n",
       "      <th>10</th>\n",
       "      <td>11</td>\n",
       "      <td>0</td>\n",
       "      <td>2</td>\n",
       "      <td>6</td>\n",
       "      <td>18.6</td>\n",
       "    </tr>\n",
       "    <tr>\n",
       "      <th>11</th>\n",
       "      <td>12</td>\n",
       "      <td>1</td>\n",
       "      <td>1</td>\n",
       "      <td>4</td>\n",
       "      <td>7.1</td>\n",
       "    </tr>\n",
       "    <tr>\n",
       "      <th>12</th>\n",
       "      <td>13</td>\n",
       "      <td>0</td>\n",
       "      <td>2</td>\n",
       "      <td>4</td>\n",
       "      <td>12.9</td>\n",
       "    </tr>\n",
       "    <tr>\n",
       "      <th>13</th>\n",
       "      <td>14</td>\n",
       "      <td>0</td>\n",
       "      <td>2</td>\n",
       "      <td>6</td>\n",
       "      <td>8.4</td>\n",
       "    </tr>\n",
       "    <tr>\n",
       "      <th>14</th>\n",
       "      <td>15</td>\n",
       "      <td>0</td>\n",
       "      <td>3</td>\n",
       "      <td>3</td>\n",
       "      <td>19.3</td>\n",
       "    </tr>\n",
       "    <tr>\n",
       "      <th>15</th>\n",
       "      <td>16</td>\n",
       "      <td>0</td>\n",
       "      <td>2</td>\n",
       "      <td>5</td>\n",
       "      <td>10.4</td>\n",
       "    </tr>\n",
       "    <tr>\n",
       "      <th>16</th>\n",
       "      <td>17</td>\n",
       "      <td>1</td>\n",
       "      <td>3</td>\n",
       "      <td>3</td>\n",
       "      <td>8.9</td>\n",
       "    </tr>\n",
       "    <tr>\n",
       "      <th>17</th>\n",
       "      <td>18</td>\n",
       "      <td>0</td>\n",
       "      <td>3</td>\n",
       "      <td>4</td>\n",
       "      <td>12.9</td>\n",
       "    </tr>\n",
       "    <tr>\n",
       "      <th>18</th>\n",
       "      <td>19</td>\n",
       "      <td>0</td>\n",
       "      <td>3</td>\n",
       "      <td>4</td>\n",
       "      <td>5.1</td>\n",
       "    </tr>\n",
       "    <tr>\n",
       "      <th>19</th>\n",
       "      <td>20</td>\n",
       "      <td>1</td>\n",
       "      <td>3</td>\n",
       "      <td>4</td>\n",
       "      <td>12.2</td>\n",
       "    </tr>\n",
       "    <tr>\n",
       "      <th>20</th>\n",
       "      <td>21</td>\n",
       "      <td>1</td>\n",
       "      <td>3</td>\n",
       "      <td>5</td>\n",
       "      <td>5.8</td>\n",
       "    </tr>\n",
       "    <tr>\n",
       "      <th>21</th>\n",
       "      <td>22</td>\n",
       "      <td>1</td>\n",
       "      <td>3</td>\n",
       "      <td>5</td>\n",
       "      <td>12.9</td>\n",
       "    </tr>\n",
       "    <tr>\n",
       "      <th>22</th>\n",
       "      <td>23</td>\n",
       "      <td>0</td>\n",
       "      <td>3</td>\n",
       "      <td>5</td>\n",
       "      <td>7.7</td>\n",
       "    </tr>\n",
       "    <tr>\n",
       "      <th>23</th>\n",
       "      <td>24</td>\n",
       "      <td>0</td>\n",
       "      <td>2</td>\n",
       "      <td>4</td>\n",
       "      <td>1.1</td>\n",
       "    </tr>\n",
       "    <tr>\n",
       "      <th>24</th>\n",
       "      <td>25</td>\n",
       "      <td>0</td>\n",
       "      <td>2</td>\n",
       "      <td>8</td>\n",
       "      <td>7.5</td>\n",
       "    </tr>\n",
       "    <tr>\n",
       "      <th>25</th>\n",
       "      <td>26</td>\n",
       "      <td>1</td>\n",
       "      <td>3</td>\n",
       "      <td>4</td>\n",
       "      <td>5.8</td>\n",
       "    </tr>\n",
       "    <tr>\n",
       "      <th>26</th>\n",
       "      <td>27</td>\n",
       "      <td>1</td>\n",
       "      <td>1</td>\n",
       "      <td>5</td>\n",
       "      <td>7.2</td>\n",
       "    </tr>\n",
       "    <tr>\n",
       "      <th>27</th>\n",
       "      <td>28</td>\n",
       "      <td>0</td>\n",
       "      <td>3</td>\n",
       "      <td>3</td>\n",
       "      <td>8.6</td>\n",
       "    </tr>\n",
       "    <tr>\n",
       "      <th>28</th>\n",
       "      <td>29</td>\n",
       "      <td>1</td>\n",
       "      <td>2</td>\n",
       "      <td>4</td>\n",
       "      <td>5.1</td>\n",
       "    </tr>\n",
       "    <tr>\n",
       "      <th>29</th>\n",
       "      <td>30</td>\n",
       "      <td>0</td>\n",
       "      <td>3</td>\n",
       "      <td>5</td>\n",
       "      <td>2.6</td>\n",
       "    </tr>\n",
       "    <tr>\n",
       "      <th>30</th>\n",
       "      <td>31</td>\n",
       "      <td>1</td>\n",
       "      <td>3</td>\n",
       "      <td>5</td>\n",
       "      <td>7.7</td>\n",
       "    </tr>\n",
       "    <tr>\n",
       "      <th>31</th>\n",
       "      <td>32</td>\n",
       "      <td>1</td>\n",
       "      <td>2</td>\n",
       "      <td>2</td>\n",
       "      <td>2.4</td>\n",
       "    </tr>\n",
       "    <tr>\n",
       "      <th>32</th>\n",
       "      <td>33</td>\n",
       "      <td>1</td>\n",
       "      <td>3</td>\n",
       "      <td>5</td>\n",
       "      <td>4.8</td>\n",
       "    </tr>\n",
       "    <tr>\n",
       "      <th>33</th>\n",
       "      <td>34</td>\n",
       "      <td>1</td>\n",
       "      <td>1</td>\n",
       "      <td>2</td>\n",
       "      <td>2.1</td>\n",
       "    </tr>\n",
       "    <tr>\n",
       "      <th>34</th>\n",
       "      <td>35</td>\n",
       "      <td>1</td>\n",
       "      <td>1</td>\n",
       "      <td>6</td>\n",
       "      <td>4.0</td>\n",
       "    </tr>\n",
       "    <tr>\n",
       "      <th>35</th>\n",
       "      <td>36</td>\n",
       "      <td>1</td>\n",
       "      <td>1</td>\n",
       "      <td>8</td>\n",
       "      <td>12.5</td>\n",
       "    </tr>\n",
       "    <tr>\n",
       "      <th>36</th>\n",
       "      <td>37</td>\n",
       "      <td>1</td>\n",
       "      <td>3</td>\n",
       "      <td>3</td>\n",
       "      <td>6.8</td>\n",
       "    </tr>\n",
       "    <tr>\n",
       "      <th>37</th>\n",
       "      <td>38</td>\n",
       "      <td>1</td>\n",
       "      <td>3</td>\n",
       "      <td>5</td>\n",
       "      <td>3.9</td>\n",
       "    </tr>\n",
       "    <tr>\n",
       "      <th>38</th>\n",
       "      <td>39</td>\n",
       "      <td>1</td>\n",
       "      <td>3</td>\n",
       "      <td>5</td>\n",
       "      <td>9.0</td>\n",
       "    </tr>\n",
       "    <tr>\n",
       "      <th>39</th>\n",
       "      <td>40</td>\n",
       "      <td>1</td>\n",
       "      <td>3</td>\n",
       "      <td>3</td>\n",
       "      <td>10.9</td>\n",
       "    </tr>\n",
       "  </tbody>\n",
       "</table>\n",
       "</div>"
      ],
      "text/plain": [
       "    Ident  PAP  GI  RES  RENDA\n",
       "0       1    0   3    4   10.3\n",
       "1       2    0   3    4   15.4\n",
       "2       3    1   2    4    9.6\n",
       "3       4    0   2    5    5.5\n",
       "4       5    1   3    4    9.0\n",
       "5       6    1   1    1    2.4\n",
       "6       7    0   3    2    4.1\n",
       "7       8    1   3    3    8.4\n",
       "8       9    1   3    6   10.3\n",
       "9      10    1   2    4    4.6\n",
       "10     11    0   2    6   18.6\n",
       "11     12    1   1    4    7.1\n",
       "12     13    0   2    4   12.9\n",
       "13     14    0   2    6    8.4\n",
       "14     15    0   3    3   19.3\n",
       "15     16    0   2    5   10.4\n",
       "16     17    1   3    3    8.9\n",
       "17     18    0   3    4   12.9\n",
       "18     19    0   3    4    5.1\n",
       "19     20    1   3    4   12.2\n",
       "20     21    1   3    5    5.8\n",
       "21     22    1   3    5   12.9\n",
       "22     23    0   3    5    7.7\n",
       "23     24    0   2    4    1.1\n",
       "24     25    0   2    8    7.5\n",
       "25     26    1   3    4    5.8\n",
       "26     27    1   1    5    7.2\n",
       "27     28    0   3    3    8.6\n",
       "28     29    1   2    4    5.1\n",
       "29     30    0   3    5    2.6\n",
       "30     31    1   3    5    7.7\n",
       "31     32    1   2    2    2.4\n",
       "32     33    1   3    5    4.8\n",
       "33     34    1   1    2    2.1\n",
       "34     35    1   1    6    4.0\n",
       "35     36    1   1    8   12.5\n",
       "36     37    1   3    3    6.8\n",
       "37     38    1   3    5    3.9\n",
       "38     39    1   3    5    9.0\n",
       "39     40    1   3    3   10.9"
      ]
     },
     "execution_count": 13,
     "metadata": {},
     "output_type": "execute_result"
    }
   ],
   "source": [
    "df2 = pd.read_csv(\"C:/Users/itama/Downloads/Questao_3.csv\", sep=';', decimal=',')\n",
    "df2"
   ]
  },
  {
   "cell_type": "markdown",
   "id": "4b99cafc",
   "metadata": {},
   "source": [
    "    Frequência absoluta da variavel nominal \"PAP\""
   ]
  },
  {
   "cell_type": "code",
   "execution_count": 14,
   "id": "e27c99e8",
   "metadata": {},
   "outputs": [
    {
     "data": {
      "text/plain": [
       "1    24\n",
       "0    16\n",
       "Name: PAP, dtype: int64"
      ]
     },
     "execution_count": 14,
     "metadata": {},
     "output_type": "execute_result"
    }
   ],
   "source": [
    "df2['PAP'].value_counts()"
   ]
  },
  {
   "cell_type": "markdown",
   "id": "52853ca5",
   "metadata": {},
   "source": [
    "    Frequência relativa da variavel nominal \"PAP\""
   ]
  },
  {
   "cell_type": "code",
   "execution_count": 15,
   "id": "d4ed95a4",
   "metadata": {},
   "outputs": [
    {
     "data": {
      "text/plain": [
       "1    60.0\n",
       "0    40.0\n",
       "Name: PAP, dtype: float64"
      ]
     },
     "execution_count": 15,
     "metadata": {},
     "output_type": "execute_result"
    }
   ],
   "source": [
    "df2['PAP'].value_counts(normalize=True)*100"
   ]
  },
  {
   "cell_type": "markdown",
   "id": "cb3b39ec",
   "metadata": {},
   "source": [
    "    Frequência absoluta da variavel nominal \"GI\""
   ]
  },
  {
   "cell_type": "code",
   "execution_count": 16,
   "id": "9a7be553",
   "metadata": {},
   "outputs": [
    {
     "data": {
      "text/plain": [
       "3    23\n",
       "2    11\n",
       "1     6\n",
       "Name: GI, dtype: int64"
      ]
     },
     "execution_count": 16,
     "metadata": {},
     "output_type": "execute_result"
    }
   ],
   "source": [
    "df2['GI'].value_counts()"
   ]
  },
  {
   "cell_type": "markdown",
   "id": "63633f05",
   "metadata": {},
   "source": [
    "    Frequência relativa da variavel nominal \"GI\""
   ]
  },
  {
   "cell_type": "code",
   "execution_count": 17,
   "id": "8c3deeca",
   "metadata": {
    "scrolled": true
   },
   "outputs": [
    {
     "data": {
      "text/plain": [
       "3    57.5\n",
       "2    27.5\n",
       "1    15.0\n",
       "Name: GI, dtype: float64"
      ]
     },
     "execution_count": 17,
     "metadata": {},
     "output_type": "execute_result"
    }
   ],
   "source": [
    "df2['GI'].value_counts(normalize=True)*100"
   ]
  }
 ],
 "metadata": {
  "kernelspec": {
   "display_name": "Python 3",
   "language": "python",
   "name": "python3"
  },
  "language_info": {
   "codemirror_mode": {
    "name": "ipython",
    "version": 3
   },
   "file_extension": ".py",
   "mimetype": "text/x-python",
   "name": "python",
   "nbconvert_exporter": "python",
   "pygments_lexer": "ipython3",
   "version": "3.8.8"
  }
 },
 "nbformat": 4,
 "nbformat_minor": 5
}
