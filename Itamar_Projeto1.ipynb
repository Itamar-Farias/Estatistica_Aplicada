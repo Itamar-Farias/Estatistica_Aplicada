{
 "cells": [
  {
   "cell_type": "markdown",
   "id": "f4809db5",
   "metadata": {},
   "source": [
    "# 1ª Tarefa"
   ]
  },
  {
   "cell_type": "markdown",
   "id": "bbb4ea84",
   "metadata": {},
   "source": [
    "É possível acessar SIM os arquivos compactos diretamente do site sem precisar baixá-los."
   ]
  },
  {
   "cell_type": "code",
   "execution_count": 25,
   "id": "4804696b",
   "metadata": {},
   "outputs": [],
   "source": [
    "import requests\n",
    "import pandas as pd\n",
    "from zipfile import ZipFile\n",
    "from io import BytesIO\n",
    "\n",
    "# Agrupados por pessoa - Todas as causas e tipos de acidentes (a partir de 2018)\n",
    "\n",
    "\n",
    "url2020 = \"https://arquivos.prf.gov.br/arquivos/index.php/s/hXimwPNR9lyqdMS/download\"\n",
    "url2019 = \"https://arquivos.prf.gov.br/arquivos/index.php/s/sdvJndbl5wLyh3J/download\"\n",
    "url2018 = \"https://arquivos.prf.gov.br/arquivos/index.php/s/EF4uPKCihT0ouXd/download\""
   ]
  },
  {
   "cell_type": "code",
   "execution_count": 4,
   "id": "a5da307f",
   "metadata": {},
   "outputs": [
    {
     "data": {
      "text/html": [
       "<div>\n",
       "<style scoped>\n",
       "    .dataframe tbody tr th:only-of-type {\n",
       "        vertical-align: middle;\n",
       "    }\n",
       "\n",
       "    .dataframe tbody tr th {\n",
       "        vertical-align: top;\n",
       "    }\n",
       "\n",
       "    .dataframe thead th {\n",
       "        text-align: right;\n",
       "    }\n",
       "</style>\n",
       "<table border=\"1\" class=\"dataframe\">\n",
       "  <thead>\n",
       "    <tr style=\"text-align: right;\">\n",
       "      <th></th>\n",
       "      <th>id</th>\n",
       "      <th>pesid</th>\n",
       "      <th>data_inversa</th>\n",
       "      <th>dia_semana</th>\n",
       "      <th>horario</th>\n",
       "      <th>uf</th>\n",
       "      <th>br</th>\n",
       "      <th>km</th>\n",
       "      <th>municipio</th>\n",
       "      <th>causa_principal</th>\n",
       "      <th>...</th>\n",
       "      <th>sexo</th>\n",
       "      <th>ilesos</th>\n",
       "      <th>feridos_leves</th>\n",
       "      <th>feridos_graves</th>\n",
       "      <th>mortos</th>\n",
       "      <th>latitude</th>\n",
       "      <th>longitude</th>\n",
       "      <th>regional</th>\n",
       "      <th>delegacia</th>\n",
       "      <th>uop</th>\n",
       "    </tr>\n",
       "  </thead>\n",
       "  <tbody>\n",
       "    <tr>\n",
       "      <th>0</th>\n",
       "      <td>260031.0</td>\n",
       "      <td>578987.0</td>\n",
       "      <td>2020-01-01</td>\n",
       "      <td>quarta</td>\n",
       "      <td>01:00:00</td>\n",
       "      <td>TO</td>\n",
       "      <td>153.0</td>\n",
       "      <td>678,1</td>\n",
       "      <td>GURUPI</td>\n",
       "      <td>Sim</td>\n",
       "      <td>...</td>\n",
       "      <td>Masculino</td>\n",
       "      <td>0</td>\n",
       "      <td>0</td>\n",
       "      <td>1</td>\n",
       "      <td>0</td>\n",
       "      <td>-11,77460203</td>\n",
       "      <td>-49,10744996</td>\n",
       "      <td>SR-TO</td>\n",
       "      <td>UOP01/TO</td>\n",
       "      <td>NaN</td>\n",
       "    </tr>\n",
       "    <tr>\n",
       "      <th>1</th>\n",
       "      <td>260031.0</td>\n",
       "      <td>578986.0</td>\n",
       "      <td>2020-01-01</td>\n",
       "      <td>quarta</td>\n",
       "      <td>01:00:00</td>\n",
       "      <td>TO</td>\n",
       "      <td>153.0</td>\n",
       "      <td>678,1</td>\n",
       "      <td>GURUPI</td>\n",
       "      <td>Sim</td>\n",
       "      <td>...</td>\n",
       "      <td>Feminino</td>\n",
       "      <td>0</td>\n",
       "      <td>0</td>\n",
       "      <td>1</td>\n",
       "      <td>0</td>\n",
       "      <td>-11,77460203</td>\n",
       "      <td>-49,10744996</td>\n",
       "      <td>SR-TO</td>\n",
       "      <td>UOP01/TO</td>\n",
       "      <td>NaN</td>\n",
       "    </tr>\n",
       "    <tr>\n",
       "      <th>2</th>\n",
       "      <td>260031.0</td>\n",
       "      <td>578988.0</td>\n",
       "      <td>2020-01-01</td>\n",
       "      <td>quarta</td>\n",
       "      <td>01:00:00</td>\n",
       "      <td>TO</td>\n",
       "      <td>153.0</td>\n",
       "      <td>678,1</td>\n",
       "      <td>GURUPI</td>\n",
       "      <td>Sim</td>\n",
       "      <td>...</td>\n",
       "      <td>Masculino</td>\n",
       "      <td>0</td>\n",
       "      <td>0</td>\n",
       "      <td>1</td>\n",
       "      <td>0</td>\n",
       "      <td>-11,77460203</td>\n",
       "      <td>-49,10744996</td>\n",
       "      <td>SR-TO</td>\n",
       "      <td>UOP01/TO</td>\n",
       "      <td>NaN</td>\n",
       "    </tr>\n",
       "    <tr>\n",
       "      <th>3</th>\n",
       "      <td>260031.0</td>\n",
       "      <td>578991.0</td>\n",
       "      <td>2020-01-01</td>\n",
       "      <td>quarta</td>\n",
       "      <td>01:00:00</td>\n",
       "      <td>TO</td>\n",
       "      <td>153.0</td>\n",
       "      <td>678,1</td>\n",
       "      <td>GURUPI</td>\n",
       "      <td>Sim</td>\n",
       "      <td>...</td>\n",
       "      <td>Feminino</td>\n",
       "      <td>0</td>\n",
       "      <td>0</td>\n",
       "      <td>1</td>\n",
       "      <td>0</td>\n",
       "      <td>-11,77460203</td>\n",
       "      <td>-49,10744996</td>\n",
       "      <td>SR-TO</td>\n",
       "      <td>UOP01/TO</td>\n",
       "      <td>NaN</td>\n",
       "    </tr>\n",
       "    <tr>\n",
       "      <th>4</th>\n",
       "      <td>260031.0</td>\n",
       "      <td>578475.0</td>\n",
       "      <td>2020-01-01</td>\n",
       "      <td>quarta</td>\n",
       "      <td>01:00:00</td>\n",
       "      <td>TO</td>\n",
       "      <td>153.0</td>\n",
       "      <td>678,1</td>\n",
       "      <td>GURUPI</td>\n",
       "      <td>Sim</td>\n",
       "      <td>...</td>\n",
       "      <td>Feminino</td>\n",
       "      <td>0</td>\n",
       "      <td>0</td>\n",
       "      <td>1</td>\n",
       "      <td>0</td>\n",
       "      <td>-11,77460203</td>\n",
       "      <td>-49,10744996</td>\n",
       "      <td>SR-TO</td>\n",
       "      <td>UOP01/TO</td>\n",
       "      <td>NaN</td>\n",
       "    </tr>\n",
       "  </tbody>\n",
       "</table>\n",
       "<p>5 rows × 37 columns</p>\n",
       "</div>"
      ],
      "text/plain": [
       "         id     pesid data_inversa dia_semana   horario  uf     br     km  \\\n",
       "0  260031.0  578987.0   2020-01-01     quarta  01:00:00  TO  153.0  678,1   \n",
       "1  260031.0  578986.0   2020-01-01     quarta  01:00:00  TO  153.0  678,1   \n",
       "2  260031.0  578988.0   2020-01-01     quarta  01:00:00  TO  153.0  678,1   \n",
       "3  260031.0  578991.0   2020-01-01     quarta  01:00:00  TO  153.0  678,1   \n",
       "4  260031.0  578475.0   2020-01-01     quarta  01:00:00  TO  153.0  678,1   \n",
       "\n",
       "  municipio causa_principal  ...       sexo  ilesos feridos_leves  \\\n",
       "0    GURUPI             Sim  ...  Masculino       0             0   \n",
       "1    GURUPI             Sim  ...   Feminino       0             0   \n",
       "2    GURUPI             Sim  ...  Masculino       0             0   \n",
       "3    GURUPI             Sim  ...   Feminino       0             0   \n",
       "4    GURUPI             Sim  ...   Feminino       0             0   \n",
       "\n",
       "  feridos_graves mortos      latitude     longitude regional delegacia  uop  \n",
       "0              1      0  -11,77460203  -49,10744996    SR-TO  UOP01/TO  NaN  \n",
       "1              1      0  -11,77460203  -49,10744996    SR-TO  UOP01/TO  NaN  \n",
       "2              1      0  -11,77460203  -49,10744996    SR-TO  UOP01/TO  NaN  \n",
       "3              1      0  -11,77460203  -49,10744996    SR-TO  UOP01/TO  NaN  \n",
       "4              1      0  -11,77460203  -49,10744996    SR-TO  UOP01/TO  NaN  \n",
       "\n",
       "[5 rows x 37 columns]"
      ]
     },
     "execution_count": 4,
     "metadata": {},
     "output_type": "execute_result"
    }
   ],
   "source": [
    "acidentes2020 = pd.read_csv(url2020, compression='zip',encoding='iso8859-1', sep=';')\n",
    "acidentes2020.head()"
   ]
  },
  {
   "cell_type": "code",
   "execution_count": 5,
   "id": "8d54bb69",
   "metadata": {},
   "outputs": [
    {
     "data": {
      "text/html": [
       "<div>\n",
       "<style scoped>\n",
       "    .dataframe tbody tr th:only-of-type {\n",
       "        vertical-align: middle;\n",
       "    }\n",
       "\n",
       "    .dataframe tbody tr th {\n",
       "        vertical-align: top;\n",
       "    }\n",
       "\n",
       "    .dataframe thead th {\n",
       "        text-align: right;\n",
       "    }\n",
       "</style>\n",
       "<table border=\"1\" class=\"dataframe\">\n",
       "  <thead>\n",
       "    <tr style=\"text-align: right;\">\n",
       "      <th></th>\n",
       "      <th>id</th>\n",
       "      <th>pesid</th>\n",
       "      <th>data_inversa</th>\n",
       "      <th>dia_semana</th>\n",
       "      <th>horario</th>\n",
       "      <th>uf</th>\n",
       "      <th>br</th>\n",
       "      <th>km</th>\n",
       "      <th>municipio</th>\n",
       "      <th>causa_principal</th>\n",
       "      <th>...</th>\n",
       "      <th>sexo</th>\n",
       "      <th>ilesos</th>\n",
       "      <th>feridos_leves</th>\n",
       "      <th>feridos_graves</th>\n",
       "      <th>mortos</th>\n",
       "      <th>latitude</th>\n",
       "      <th>longitude</th>\n",
       "      <th>regional</th>\n",
       "      <th>delegacia</th>\n",
       "      <th>uop</th>\n",
       "    </tr>\n",
       "  </thead>\n",
       "  <tbody>\n",
       "    <tr>\n",
       "      <th>0</th>\n",
       "      <td>182210.0</td>\n",
       "      <td>402103.0</td>\n",
       "      <td>2019-01-01</td>\n",
       "      <td>terça-feira</td>\n",
       "      <td>01:30:00</td>\n",
       "      <td>SP</td>\n",
       "      <td>116.0</td>\n",
       "      <td>218</td>\n",
       "      <td>GUARULHOS</td>\n",
       "      <td>Sim</td>\n",
       "      <td>...</td>\n",
       "      <td>Masculino</td>\n",
       "      <td>0</td>\n",
       "      <td>1</td>\n",
       "      <td>0</td>\n",
       "      <td>0</td>\n",
       "      <td>-23,46052014</td>\n",
       "      <td>-46,48772478</td>\n",
       "      <td>SR-SP</td>\n",
       "      <td>DEL6/1</td>\n",
       "      <td>UOP01/SP</td>\n",
       "    </tr>\n",
       "    <tr>\n",
       "      <th>1</th>\n",
       "      <td>182210.0</td>\n",
       "      <td>402106.0</td>\n",
       "      <td>2019-01-01</td>\n",
       "      <td>terça-feira</td>\n",
       "      <td>01:30:00</td>\n",
       "      <td>SP</td>\n",
       "      <td>116.0</td>\n",
       "      <td>218</td>\n",
       "      <td>GUARULHOS</td>\n",
       "      <td>Sim</td>\n",
       "      <td>...</td>\n",
       "      <td>Masculino</td>\n",
       "      <td>0</td>\n",
       "      <td>1</td>\n",
       "      <td>0</td>\n",
       "      <td>0</td>\n",
       "      <td>-23,46052014</td>\n",
       "      <td>-46,48772478</td>\n",
       "      <td>SR-SP</td>\n",
       "      <td>DEL6/1</td>\n",
       "      <td>UOP01/SP</td>\n",
       "    </tr>\n",
       "    <tr>\n",
       "      <th>2</th>\n",
       "      <td>182210.0</td>\n",
       "      <td>402104.0</td>\n",
       "      <td>2019-01-01</td>\n",
       "      <td>terça-feira</td>\n",
       "      <td>01:30:00</td>\n",
       "      <td>SP</td>\n",
       "      <td>116.0</td>\n",
       "      <td>218</td>\n",
       "      <td>GUARULHOS</td>\n",
       "      <td>Sim</td>\n",
       "      <td>...</td>\n",
       "      <td>Feminino</td>\n",
       "      <td>0</td>\n",
       "      <td>1</td>\n",
       "      <td>0</td>\n",
       "      <td>0</td>\n",
       "      <td>-23,46052014</td>\n",
       "      <td>-46,48772478</td>\n",
       "      <td>SR-SP</td>\n",
       "      <td>DEL6/1</td>\n",
       "      <td>UOP01/SP</td>\n",
       "    </tr>\n",
       "    <tr>\n",
       "      <th>3</th>\n",
       "      <td>182210.0</td>\n",
       "      <td>402102.0</td>\n",
       "      <td>2019-01-01</td>\n",
       "      <td>terça-feira</td>\n",
       "      <td>01:30:00</td>\n",
       "      <td>SP</td>\n",
       "      <td>116.0</td>\n",
       "      <td>218</td>\n",
       "      <td>GUARULHOS</td>\n",
       "      <td>Sim</td>\n",
       "      <td>...</td>\n",
       "      <td>Masculino</td>\n",
       "      <td>0</td>\n",
       "      <td>1</td>\n",
       "      <td>0</td>\n",
       "      <td>0</td>\n",
       "      <td>-23,46052014</td>\n",
       "      <td>-46,48772478</td>\n",
       "      <td>SR-SP</td>\n",
       "      <td>DEL6/1</td>\n",
       "      <td>UOP01/SP</td>\n",
       "    </tr>\n",
       "    <tr>\n",
       "      <th>4</th>\n",
       "      <td>182211.0</td>\n",
       "      <td>402126.0</td>\n",
       "      <td>2019-01-01</td>\n",
       "      <td>terça-feira</td>\n",
       "      <td>01:30:00</td>\n",
       "      <td>PR</td>\n",
       "      <td>373.0</td>\n",
       "      <td>177,3</td>\n",
       "      <td>PONTA GROSSA</td>\n",
       "      <td>Sim</td>\n",
       "      <td>...</td>\n",
       "      <td>Masculino</td>\n",
       "      <td>0</td>\n",
       "      <td>1</td>\n",
       "      <td>0</td>\n",
       "      <td>0</td>\n",
       "      <td>-25,05533957</td>\n",
       "      <td>-50,22776753</td>\n",
       "      <td>SR-PR</td>\n",
       "      <td>DEL7/3</td>\n",
       "      <td>UOP01/PR</td>\n",
       "    </tr>\n",
       "  </tbody>\n",
       "</table>\n",
       "<p>5 rows × 37 columns</p>\n",
       "</div>"
      ],
      "text/plain": [
       "         id     pesid data_inversa   dia_semana   horario  uf     br     km  \\\n",
       "0  182210.0  402103.0   2019-01-01  terça-feira  01:30:00  SP  116.0    218   \n",
       "1  182210.0  402106.0   2019-01-01  terça-feira  01:30:00  SP  116.0    218   \n",
       "2  182210.0  402104.0   2019-01-01  terça-feira  01:30:00  SP  116.0    218   \n",
       "3  182210.0  402102.0   2019-01-01  terça-feira  01:30:00  SP  116.0    218   \n",
       "4  182211.0  402126.0   2019-01-01  terça-feira  01:30:00  PR  373.0  177,3   \n",
       "\n",
       "      municipio causa_principal  ...       sexo  ilesos feridos_leves  \\\n",
       "0     GUARULHOS             Sim  ...  Masculino       0             1   \n",
       "1     GUARULHOS             Sim  ...  Masculino       0             1   \n",
       "2     GUARULHOS             Sim  ...   Feminino       0             1   \n",
       "3     GUARULHOS             Sim  ...  Masculino       0             1   \n",
       "4  PONTA GROSSA             Sim  ...  Masculino       0             1   \n",
       "\n",
       "  feridos_graves mortos      latitude     longitude regional delegacia  \\\n",
       "0              0      0  -23,46052014  -46,48772478    SR-SP    DEL6/1   \n",
       "1              0      0  -23,46052014  -46,48772478    SR-SP    DEL6/1   \n",
       "2              0      0  -23,46052014  -46,48772478    SR-SP    DEL6/1   \n",
       "3              0      0  -23,46052014  -46,48772478    SR-SP    DEL6/1   \n",
       "4              0      0  -25,05533957  -50,22776753    SR-PR    DEL7/3   \n",
       "\n",
       "        uop  \n",
       "0  UOP01/SP  \n",
       "1  UOP01/SP  \n",
       "2  UOP01/SP  \n",
       "3  UOP01/SP  \n",
       "4  UOP01/PR  \n",
       "\n",
       "[5 rows x 37 columns]"
      ]
     },
     "execution_count": 5,
     "metadata": {},
     "output_type": "execute_result"
    }
   ],
   "source": [
    "acidentes2019 = pd.read_csv(url2019, compression='zip',encoding='iso8859-1', sep=';')\n",
    "acidentes2019.head()       "
   ]
  },
  {
   "cell_type": "code",
   "execution_count": 6,
   "id": "5a2cc04d",
   "metadata": {},
   "outputs": [
    {
     "data": {
      "text/html": [
       "<div>\n",
       "<style scoped>\n",
       "    .dataframe tbody tr th:only-of-type {\n",
       "        vertical-align: middle;\n",
       "    }\n",
       "\n",
       "    .dataframe tbody tr th {\n",
       "        vertical-align: top;\n",
       "    }\n",
       "\n",
       "    .dataframe thead th {\n",
       "        text-align: right;\n",
       "    }\n",
       "</style>\n",
       "<table border=\"1\" class=\"dataframe\">\n",
       "  <thead>\n",
       "    <tr style=\"text-align: right;\">\n",
       "      <th></th>\n",
       "      <th>id</th>\n",
       "      <th>pesid</th>\n",
       "      <th>data_inversa</th>\n",
       "      <th>dia_semana</th>\n",
       "      <th>horario</th>\n",
       "      <th>uf</th>\n",
       "      <th>br</th>\n",
       "      <th>km</th>\n",
       "      <th>municipio</th>\n",
       "      <th>causa_principal</th>\n",
       "      <th>...</th>\n",
       "      <th>sexo</th>\n",
       "      <th>ilesos</th>\n",
       "      <th>feridos_leves</th>\n",
       "      <th>feridos_graves</th>\n",
       "      <th>mortos</th>\n",
       "      <th>latitude</th>\n",
       "      <th>longitude</th>\n",
       "      <th>regional</th>\n",
       "      <th>delegacia</th>\n",
       "      <th>uop</th>\n",
       "    </tr>\n",
       "  </thead>\n",
       "  <tbody>\n",
       "    <tr>\n",
       "      <th>0</th>\n",
       "      <td>99973.0</td>\n",
       "      <td>216523.0</td>\n",
       "      <td>2018-01-01</td>\n",
       "      <td>segunda-feira</td>\n",
       "      <td>00:20:00</td>\n",
       "      <td>RJ</td>\n",
       "      <td>116.0</td>\n",
       "      <td>303,5</td>\n",
       "      <td>RESENDE</td>\n",
       "      <td>Sim</td>\n",
       "      <td>...</td>\n",
       "      <td>Masculino</td>\n",
       "      <td>0</td>\n",
       "      <td>0</td>\n",
       "      <td>1</td>\n",
       "      <td>0</td>\n",
       "      <td>-22,46937</td>\n",
       "      <td>-44,44705</td>\n",
       "      <td>SR-RJ</td>\n",
       "      <td>DEL5/7</td>\n",
       "      <td>UOP03/RJ</td>\n",
       "    </tr>\n",
       "    <tr>\n",
       "      <th>1</th>\n",
       "      <td>99973.0</td>\n",
       "      <td>216524.0</td>\n",
       "      <td>2018-01-01</td>\n",
       "      <td>segunda-feira</td>\n",
       "      <td>00:20:00</td>\n",
       "      <td>RJ</td>\n",
       "      <td>116.0</td>\n",
       "      <td>303,5</td>\n",
       "      <td>RESENDE</td>\n",
       "      <td>Sim</td>\n",
       "      <td>...</td>\n",
       "      <td>Feminino</td>\n",
       "      <td>0</td>\n",
       "      <td>0</td>\n",
       "      <td>1</td>\n",
       "      <td>0</td>\n",
       "      <td>-22,46937</td>\n",
       "      <td>-44,44705</td>\n",
       "      <td>SR-RJ</td>\n",
       "      <td>DEL5/7</td>\n",
       "      <td>UOP03/RJ</td>\n",
       "    </tr>\n",
       "    <tr>\n",
       "      <th>2</th>\n",
       "      <td>99973.0</td>\n",
       "      <td>216532.0</td>\n",
       "      <td>2018-01-01</td>\n",
       "      <td>segunda-feira</td>\n",
       "      <td>00:20:00</td>\n",
       "      <td>RJ</td>\n",
       "      <td>116.0</td>\n",
       "      <td>303,5</td>\n",
       "      <td>RESENDE</td>\n",
       "      <td>Sim</td>\n",
       "      <td>...</td>\n",
       "      <td>Masculino</td>\n",
       "      <td>1</td>\n",
       "      <td>0</td>\n",
       "      <td>0</td>\n",
       "      <td>0</td>\n",
       "      <td>-22,46937</td>\n",
       "      <td>-44,44705</td>\n",
       "      <td>SR-RJ</td>\n",
       "      <td>DEL5/7</td>\n",
       "      <td>UOP03/RJ</td>\n",
       "    </tr>\n",
       "    <tr>\n",
       "      <th>3</th>\n",
       "      <td>99973.0</td>\n",
       "      <td>216527.0</td>\n",
       "      <td>2018-01-01</td>\n",
       "      <td>segunda-feira</td>\n",
       "      <td>00:20:00</td>\n",
       "      <td>RJ</td>\n",
       "      <td>116.0</td>\n",
       "      <td>303,5</td>\n",
       "      <td>RESENDE</td>\n",
       "      <td>Sim</td>\n",
       "      <td>...</td>\n",
       "      <td>Feminino</td>\n",
       "      <td>0</td>\n",
       "      <td>0</td>\n",
       "      <td>1</td>\n",
       "      <td>0</td>\n",
       "      <td>-22,46937</td>\n",
       "      <td>-44,44705</td>\n",
       "      <td>SR-RJ</td>\n",
       "      <td>DEL5/7</td>\n",
       "      <td>UOP03/RJ</td>\n",
       "    </tr>\n",
       "    <tr>\n",
       "      <th>4</th>\n",
       "      <td>99973.0</td>\n",
       "      <td>216530.0</td>\n",
       "      <td>2018-01-01</td>\n",
       "      <td>segunda-feira</td>\n",
       "      <td>00:20:00</td>\n",
       "      <td>RJ</td>\n",
       "      <td>116.0</td>\n",
       "      <td>303,5</td>\n",
       "      <td>RESENDE</td>\n",
       "      <td>Sim</td>\n",
       "      <td>...</td>\n",
       "      <td>Masculino</td>\n",
       "      <td>0</td>\n",
       "      <td>0</td>\n",
       "      <td>1</td>\n",
       "      <td>0</td>\n",
       "      <td>-22,46937</td>\n",
       "      <td>-44,44705</td>\n",
       "      <td>SR-RJ</td>\n",
       "      <td>DEL5/7</td>\n",
       "      <td>UOP03/RJ</td>\n",
       "    </tr>\n",
       "  </tbody>\n",
       "</table>\n",
       "<p>5 rows × 37 columns</p>\n",
       "</div>"
      ],
      "text/plain": [
       "        id     pesid data_inversa     dia_semana   horario  uf     br     km  \\\n",
       "0  99973.0  216523.0   2018-01-01  segunda-feira  00:20:00  RJ  116.0  303,5   \n",
       "1  99973.0  216524.0   2018-01-01  segunda-feira  00:20:00  RJ  116.0  303,5   \n",
       "2  99973.0  216532.0   2018-01-01  segunda-feira  00:20:00  RJ  116.0  303,5   \n",
       "3  99973.0  216527.0   2018-01-01  segunda-feira  00:20:00  RJ  116.0  303,5   \n",
       "4  99973.0  216530.0   2018-01-01  segunda-feira  00:20:00  RJ  116.0  303,5   \n",
       "\n",
       "  municipio causa_principal  ...       sexo  ilesos feridos_leves  \\\n",
       "0   RESENDE             Sim  ...  Masculino       0             0   \n",
       "1   RESENDE             Sim  ...   Feminino       0             0   \n",
       "2   RESENDE             Sim  ...  Masculino       1             0   \n",
       "3   RESENDE             Sim  ...   Feminino       0             0   \n",
       "4   RESENDE             Sim  ...  Masculino       0             0   \n",
       "\n",
       "  feridos_graves mortos   latitude  longitude regional delegacia       uop  \n",
       "0              1      0  -22,46937  -44,44705    SR-RJ    DEL5/7  UOP03/RJ  \n",
       "1              1      0  -22,46937  -44,44705    SR-RJ    DEL5/7  UOP03/RJ  \n",
       "2              0      0  -22,46937  -44,44705    SR-RJ    DEL5/7  UOP03/RJ  \n",
       "3              1      0  -22,46937  -44,44705    SR-RJ    DEL5/7  UOP03/RJ  \n",
       "4              1      0  -22,46937  -44,44705    SR-RJ    DEL5/7  UOP03/RJ  \n",
       "\n",
       "[5 rows x 37 columns]"
      ]
     },
     "execution_count": 6,
     "metadata": {},
     "output_type": "execute_result"
    }
   ],
   "source": [
    "acidentes2018 = pd.read_csv(url2018, compression='zip',encoding='iso8859-1', sep=';')\n",
    "acidentes2018.head()"
   ]
  },
  {
   "cell_type": "markdown",
   "id": "1465d6d7",
   "metadata": {},
   "source": [
    "# 2ª Tarefa"
   ]
  },
  {
   "cell_type": "markdown",
   "id": "5b64351e",
   "metadata": {},
   "source": [
    "(a) quantos acidentes ocorreram em cada ano?"
   ]
  },
  {
   "cell_type": "code",
   "execution_count": 8,
   "id": "1577af8f",
   "metadata": {},
   "outputs": [
    {
     "data": {
      "text/plain": [
       "394482"
      ]
     },
     "execution_count": 8,
     "metadata": {},
     "output_type": "execute_result"
    }
   ],
   "source": [
    "len(acidentes2020)"
   ]
  },
  {
   "cell_type": "markdown",
   "id": "eec00015",
   "metadata": {},
   "source": [
    "Em 2020 ocorreram 394482 acidentes"
   ]
  },
  {
   "cell_type": "code",
   "execution_count": 9,
   "id": "fe7d22e1",
   "metadata": {},
   "outputs": [
    {
     "data": {
      "text/plain": [
       "331666"
      ]
     },
     "execution_count": 9,
     "metadata": {},
     "output_type": "execute_result"
    }
   ],
   "source": [
    "len(acidentes2019)"
   ]
  },
  {
   "cell_type": "markdown",
   "id": "ae0e322b",
   "metadata": {},
   "source": [
    "Em 2019 ocorreram 331666 acidentes"
   ]
  },
  {
   "cell_type": "code",
   "execution_count": 10,
   "id": "a365d106",
   "metadata": {},
   "outputs": [
    {
     "data": {
      "text/plain": [
       "324809"
      ]
     },
     "execution_count": 10,
     "metadata": {},
     "output_type": "execute_result"
    }
   ],
   "source": [
    "len(acidentes2018)"
   ]
  },
  {
   "cell_type": "markdown",
   "id": "7ea3443c",
   "metadata": {},
   "source": [
    "Em 2018 ocorreram 331666 acidentes"
   ]
  },
  {
   "cell_type": "markdown",
   "id": "77483df8",
   "metadata": {},
   "source": [
    "(b) quantas variáveis cada conjunto de dados registra?"
   ]
  },
  {
   "cell_type": "code",
   "execution_count": 13,
   "id": "83c4e440",
   "metadata": {},
   "outputs": [
    {
     "data": {
      "text/plain": [
       "(394482, 37)"
      ]
     },
     "execution_count": 13,
     "metadata": {},
     "output_type": "execute_result"
    }
   ],
   "source": [
    "acidentes2020.shape"
   ]
  },
  {
   "cell_type": "code",
   "execution_count": 16,
   "id": "05c3d3f7",
   "metadata": {},
   "outputs": [
    {
     "data": {
      "text/plain": [
       "(331666, 37)"
      ]
     },
     "execution_count": 16,
     "metadata": {},
     "output_type": "execute_result"
    }
   ],
   "source": [
    "acidentes2019.shape"
   ]
  },
  {
   "cell_type": "code",
   "execution_count": 17,
   "id": "7071b5ee",
   "metadata": {},
   "outputs": [
    {
     "data": {
      "text/plain": [
       "(324809, 37)"
      ]
     },
     "execution_count": 17,
     "metadata": {},
     "output_type": "execute_result"
    }
   ],
   "source": [
    "acidentes2018.shape"
   ]
  },
  {
   "cell_type": "code",
   "execution_count": 28,
   "id": "730e1342",
   "metadata": {},
   "outputs": [
    {
     "data": {
      "text/plain": [
       "['id',\n",
       " 'pesid',\n",
       " 'data_inversa',\n",
       " 'dia_semana',\n",
       " 'horario',\n",
       " 'uf',\n",
       " 'br',\n",
       " 'km',\n",
       " 'municipio',\n",
       " 'causa_principal',\n",
       " 'causa_acidente',\n",
       " 'ordem_tipo_acidente',\n",
       " 'tipo_acidente',\n",
       " 'classificacao_acidente',\n",
       " 'fase_dia',\n",
       " 'sentido_via',\n",
       " 'condicao_metereologica',\n",
       " 'tipo_pista',\n",
       " 'tracado_via',\n",
       " 'uso_solo',\n",
       " 'id_veiculo',\n",
       " 'tipo_veiculo',\n",
       " 'marca',\n",
       " 'ano_fabricacao_veiculo',\n",
       " 'tipo_envolvido',\n",
       " 'estado_fisico',\n",
       " 'idade',\n",
       " 'sexo',\n",
       " 'ilesos',\n",
       " 'feridos_leves',\n",
       " 'feridos_graves',\n",
       " 'mortos',\n",
       " 'latitude',\n",
       " 'longitude',\n",
       " 'regional',\n",
       " 'delegacia',\n",
       " 'uop']"
      ]
     },
     "execution_count": 28,
     "metadata": {},
     "output_type": "execute_result"
    }
   ],
   "source": [
    "acidentes2018.columns.tolist()"
   ]
  },
  {
   "cell_type": "markdown",
   "id": "b39ed27f",
   "metadata": {},
   "source": [
    "Nos dataframes correspondentes aos anos de 2020, 2019 e 2018 existem, em cada um, 37 variáveis."
   ]
  },
  {
   "cell_type": "markdown",
   "id": "e1c47d19",
   "metadata": {},
   "source": [
    "(c) quais as cinco cidades brasileiras onde mais ocorreram acidentes em rodovias federais?"
   ]
  },
  {
   "cell_type": "code",
   "execution_count": 30,
   "id": "7c700e8d",
   "metadata": {},
   "outputs": [
    {
     "data": {
      "text/plain": [
       "0    BRASILIA\n",
       "dtype: object"
      ]
     },
     "execution_count": 30,
     "metadata": {},
     "output_type": "execute_result"
    }
   ],
   "source": [
    "acidentes2020['municipio'].mode() # em 2020 Brasília foi a cidade com maior registro de acidentes"
   ]
  },
  {
   "cell_type": "code",
   "execution_count": 33,
   "id": "42a5c083",
   "metadata": {},
   "outputs": [
    {
     "data": {
      "text/plain": [
       "0    BRASILIA\n",
       "dtype: object"
      ]
     },
     "execution_count": 33,
     "metadata": {},
     "output_type": "execute_result"
    }
   ],
   "source": [
    "acidentes2019['municipio'].mode() # em 2019 Brasília foi a cidade com maior registro de acidentes"
   ]
  },
  {
   "cell_type": "code",
   "execution_count": 35,
   "id": "bbd68944",
   "metadata": {},
   "outputs": [
    {
     "data": {
      "text/plain": [
       "0    CURITIBA\n",
       "dtype: object"
      ]
     },
     "execution_count": 35,
     "metadata": {},
     "output_type": "execute_result"
    }
   ],
   "source": [
    "acidentes2018['municipio'].mode() # em 2018 Curitiba foi a cidade com maior registro de acidentes"
   ]
  },
  {
   "cell_type": "markdown",
   "id": "c5594f73",
   "metadata": {},
   "source": [
    "(d) quantos acidentes com feridos graves aconteceram na Paraíba em 2019?"
   ]
  },
  {
   "cell_type": "code",
   "execution_count": 20,
   "id": "c878da8e",
   "metadata": {},
   "outputs": [
    {
     "data": {
      "text/plain": [
       "1123"
      ]
     },
     "execution_count": 20,
     "metadata": {},
     "output_type": "execute_result"
    }
   ],
   "source": [
    "acidentes2019['estado_fisico'][(acidentes2019['estado_fisico'] == 'Lesões Graves') & (acidentes2019['uf'] == 'PB')].count()"
   ]
  },
  {
   "cell_type": "markdown",
   "id": "4a5524eb",
   "metadata": {},
   "source": [
    "No estado da Paraíba ocorreram 1123 acidentes com lesões graves no ano de 2019"
   ]
  },
  {
   "cell_type": "markdown",
   "id": "ce41996a",
   "metadata": {},
   "source": [
    "# Tarefa 3    \n"
   ]
  },
  {
   "cell_type": "raw",
   "id": "81e2bb79",
   "metadata": {},
   "source": [
    "(a) ranking de acidentes por estado para todos os anos (um só arquivo combinando a\n",
    "informação dos três anos);"
   ]
  },
  {
   "cell_type": "code",
   "execution_count": 21,
   "id": "ed0db3c2",
   "metadata": {},
   "outputs": [
    {
     "data": {
      "text/html": [
       "<div>\n",
       "<style scoped>\n",
       "    .dataframe tbody tr th:only-of-type {\n",
       "        vertical-align: middle;\n",
       "    }\n",
       "\n",
       "    .dataframe tbody tr th {\n",
       "        vertical-align: top;\n",
       "    }\n",
       "\n",
       "    .dataframe thead th {\n",
       "        text-align: right;\n",
       "    }\n",
       "</style>\n",
       "<table border=\"1\" class=\"dataframe\">\n",
       "  <thead>\n",
       "    <tr style=\"text-align: right;\">\n",
       "      <th></th>\n",
       "      <th>id</th>\n",
       "      <th>uf</th>\n",
       "    </tr>\n",
       "  </thead>\n",
       "  <tbody>\n",
       "    <tr>\n",
       "      <th>0</th>\n",
       "      <td>120498.0</td>\n",
       "      <td>MG</td>\n",
       "    </tr>\n",
       "  </tbody>\n",
       "</table>\n",
       "</div>"
      ],
      "text/plain": [
       "         id  uf\n",
       "0  120498.0  MG"
      ]
     },
     "execution_count": 21,
     "metadata": {},
     "output_type": "execute_result"
    }
   ],
   "source": [
    "trienioPorEstado = pd.concat([acidentes2020[['id', 'uf']], acidentes2019[['id', 'uf']], acidentes2018[['id', 'uf']]], ignore_index = True)\n",
    "trienioPorEstado.mode()"
   ]
  },
  {
   "cell_type": "markdown",
   "id": "61b155b7",
   "metadata": {},
   "source": [
    "(b) acidentes por dia da semana para todos os anos (um só arquivo combinando a informação dos três anos).\n"
   ]
  },
  {
   "cell_type": "code",
   "execution_count": 22,
   "id": "a2dff1c8",
   "metadata": {},
   "outputs": [
    {
     "data": {
      "text/html": [
       "<div>\n",
       "<style scoped>\n",
       "    .dataframe tbody tr th:only-of-type {\n",
       "        vertical-align: middle;\n",
       "    }\n",
       "\n",
       "    .dataframe tbody tr th {\n",
       "        vertical-align: top;\n",
       "    }\n",
       "\n",
       "    .dataframe thead th {\n",
       "        text-align: right;\n",
       "    }\n",
       "</style>\n",
       "<table border=\"1\" class=\"dataframe\">\n",
       "  <thead>\n",
       "    <tr style=\"text-align: right;\">\n",
       "      <th></th>\n",
       "      <th>id</th>\n",
       "      <th>dia_semana</th>\n",
       "    </tr>\n",
       "  </thead>\n",
       "  <tbody>\n",
       "    <tr>\n",
       "      <th>0</th>\n",
       "      <td>260031.0</td>\n",
       "      <td>quarta</td>\n",
       "    </tr>\n",
       "    <tr>\n",
       "      <th>1</th>\n",
       "      <td>260031.0</td>\n",
       "      <td>quarta</td>\n",
       "    </tr>\n",
       "    <tr>\n",
       "      <th>2</th>\n",
       "      <td>260031.0</td>\n",
       "      <td>quarta</td>\n",
       "    </tr>\n",
       "    <tr>\n",
       "      <th>3</th>\n",
       "      <td>260031.0</td>\n",
       "      <td>quarta</td>\n",
       "    </tr>\n",
       "    <tr>\n",
       "      <th>4</th>\n",
       "      <td>260031.0</td>\n",
       "      <td>quarta</td>\n",
       "    </tr>\n",
       "    <tr>\n",
       "      <th>...</th>\n",
       "      <td>...</td>\n",
       "      <td>...</td>\n",
       "    </tr>\n",
       "    <tr>\n",
       "      <th>1050952</th>\n",
       "      <td>253040.0</td>\n",
       "      <td>sexta-feira</td>\n",
       "    </tr>\n",
       "    <tr>\n",
       "      <th>1050953</th>\n",
       "      <td>253040.0</td>\n",
       "      <td>sexta-feira</td>\n",
       "    </tr>\n",
       "    <tr>\n",
       "      <th>1050954</th>\n",
       "      <td>253040.0</td>\n",
       "      <td>sexta-feira</td>\n",
       "    </tr>\n",
       "    <tr>\n",
       "      <th>1050955</th>\n",
       "      <td>253040.0</td>\n",
       "      <td>sexta-feira</td>\n",
       "    </tr>\n",
       "    <tr>\n",
       "      <th>1050956</th>\n",
       "      <td>253078.0</td>\n",
       "      <td>segunda-feira</td>\n",
       "    </tr>\n",
       "  </tbody>\n",
       "</table>\n",
       "<p>1050957 rows × 2 columns</p>\n",
       "</div>"
      ],
      "text/plain": [
       "               id     dia_semana\n",
       "0        260031.0         quarta\n",
       "1        260031.0         quarta\n",
       "2        260031.0         quarta\n",
       "3        260031.0         quarta\n",
       "4        260031.0         quarta\n",
       "...           ...            ...\n",
       "1050952  253040.0    sexta-feira\n",
       "1050953  253040.0    sexta-feira\n",
       "1050954  253040.0    sexta-feira\n",
       "1050955  253040.0    sexta-feira\n",
       "1050956  253078.0  segunda-feira\n",
       "\n",
       "[1050957 rows x 2 columns]"
      ]
     },
     "execution_count": 22,
     "metadata": {},
     "output_type": "execute_result"
    }
   ],
   "source": [
    "trienioPorDia = pd.concat([acidentes2020[['id', 'dia_semana']], acidentes2019[['id', 'dia_semana']], acidentes2018[['id', 'dia_semana']]], ignore_index = True)\n",
    "trienioPorDia"
   ]
  },
  {
   "cell_type": "markdown",
   "id": "48178c1a",
   "metadata": {},
   "source": [
    "# Tarefa 4"
   ]
  },
  {
   "cell_type": "markdown",
   "id": "a8bb25e7",
   "metadata": {},
   "source": [
    "(a) qual a causa mais frequente e a mais rara de acidentes registrados nos três anos?"
   ]
  },
  {
   "cell_type": "code",
   "execution_count": 24,
   "id": "83f65d46",
   "metadata": {},
   "outputs": [
    {
     "data": {
      "text/plain": [
       "0    Falta de Atenção à Condução\n",
       "dtype: object"
      ]
     },
     "execution_count": 24,
     "metadata": {},
     "output_type": "execute_result"
    }
   ],
   "source": [
    "trienio = pd.concat([acidentes2020, acidentes2019, acidentes2018], ignore_index = True)\n",
    "trienio['causa_acidente'].mode() #causa mais frequente de acidentes"
   ]
  }
 ],
 "metadata": {
  "kernelspec": {
   "display_name": "Python 3",
   "language": "python",
   "name": "python3"
  },
  "language_info": {
   "codemirror_mode": {
    "name": "ipython",
    "version": 3
   },
   "file_extension": ".py",
   "mimetype": "text/x-python",
   "name": "python",
   "nbconvert_exporter": "python",
   "pygments_lexer": "ipython3",
   "version": "3.8.8"
  }
 },
 "nbformat": 4,
 "nbformat_minor": 5
}
