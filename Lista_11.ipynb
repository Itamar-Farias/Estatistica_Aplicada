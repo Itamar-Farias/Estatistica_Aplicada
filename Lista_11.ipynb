{
 "cells": [
  {
   "cell_type": "code",
   "execution_count": 3,
   "id": "c13358d6",
   "metadata": {},
   "outputs": [],
   "source": [
    "import pandas as pd\n",
    "import numpy as np\n",
    "from numpy import median\n",
    "import statistics\n",
    "import matplotlib.pyplot as plt"
   ]
  },
  {
   "cell_type": "markdown",
   "id": "507aa47b",
   "metadata": {},
   "source": [
    "# 1. Quer se estudar o número de erros de impressão de um livro. Para isso escolheu-se uma amostra de 50 páginas, encontrando-se o número de erros por página da tabela abaixo."
   ]
  },
  {
   "cell_type": "code",
   "execution_count": 4,
   "id": "7efaf95f",
   "metadata": {},
   "outputs": [
    {
     "data": {
      "text/html": [
       "<div>\n",
       "<style scoped>\n",
       "    .dataframe tbody tr th:only-of-type {\n",
       "        vertical-align: middle;\n",
       "    }\n",
       "\n",
       "    .dataframe tbody tr th {\n",
       "        vertical-align: top;\n",
       "    }\n",
       "\n",
       "    .dataframe thead th {\n",
       "        text-align: right;\n",
       "    }\n",
       "</style>\n",
       "<table border=\"1\" class=\"dataframe\">\n",
       "  <thead>\n",
       "    <tr style=\"text-align: right;\">\n",
       "      <th></th>\n",
       "      <th>Erros</th>\n",
       "      <th>Frequência</th>\n",
       "    </tr>\n",
       "  </thead>\n",
       "  <tbody>\n",
       "    <tr>\n",
       "      <th>0</th>\n",
       "      <td>0</td>\n",
       "      <td>25</td>\n",
       "    </tr>\n",
       "    <tr>\n",
       "      <th>1</th>\n",
       "      <td>1</td>\n",
       "      <td>20</td>\n",
       "    </tr>\n",
       "    <tr>\n",
       "      <th>2</th>\n",
       "      <td>2</td>\n",
       "      <td>3</td>\n",
       "    </tr>\n",
       "    <tr>\n",
       "      <th>3</th>\n",
       "      <td>3</td>\n",
       "      <td>1</td>\n",
       "    </tr>\n",
       "    <tr>\n",
       "      <th>4</th>\n",
       "      <td>4</td>\n",
       "      <td>1</td>\n",
       "    </tr>\n",
       "  </tbody>\n",
       "</table>\n",
       "</div>"
      ],
      "text/plain": [
       "   Erros  Frequência\n",
       "0      0          25\n",
       "1      1          20\n",
       "2      2           3\n",
       "3      3           1\n",
       "4      4           1"
      ]
     },
     "execution_count": 4,
     "metadata": {},
     "output_type": "execute_result"
    }
   ],
   "source": [
    "erros = [0, 1, 2, 3, 4]\n",
    "frequencia = [25, 20, 3, 1, 1]\n",
    "\n",
    "Tabela1 = pd.DataFrame({\"Erros\": erros,\n",
    "\"Frequência\": frequencia})\n",
    "\n",
    "Tabela1"
   ]
  },
  {
   "cell_type": "markdown",
   "id": "b4a9d7a1",
   "metadata": {},
   "source": [
    "(a) Qual o número médio de erros por página?"
   ]
  },
  {
   "cell_type": "code",
   "execution_count": 5,
   "id": "8840acc3",
   "metadata": {},
   "outputs": [
    {
     "data": {
      "text/plain": [
       "0.66"
      ]
     },
     "execution_count": 5,
     "metadata": {},
     "output_type": "execute_result"
    }
   ],
   "source": [
    "mediaDeErros = (erros[0]*frequencia[0]+erros[1]*frequencia[1]+erros[2]*frequencia[2]+erros[3]*frequencia[3]+erros[4]*frequencia[4])/sum(frequencia)\n",
    "mediaDeErros"
   ]
  },
  {
   "cell_type": "markdown",
   "id": "4739c62b",
   "metadata": {},
   "source": [
    "(b) E o número mediano?"
   ]
  },
  {
   "cell_type": "code",
   "execution_count": 6,
   "id": "e2815101",
   "metadata": {},
   "outputs": [
    {
     "data": {
      "text/plain": [
       "0.5"
      ]
     },
     "execution_count": 6,
     "metadata": {},
     "output_type": "execute_result"
    }
   ],
   "source": [
    "rol = []\n",
    "\n",
    "for i in range(len(frequencia)):\n",
    "    for j in range(frequencia[i]):\n",
    "        rol.append(erros[i])\n",
    "        \n",
    "median(rol)"
   ]
  },
  {
   "cell_type": "markdown",
   "id": "963b2d86",
   "metadata": {},
   "source": [
    "(c) Qual é o desvio padrão?"
   ]
  },
  {
   "cell_type": "code",
   "execution_count": 7,
   "id": "5c50095e",
   "metadata": {},
   "outputs": [
    {
     "data": {
      "text/plain": [
       "0.8478062928547309"
      ]
     },
     "execution_count": 7,
     "metadata": {},
     "output_type": "execute_result"
    }
   ],
   "source": [
    "statistics.stdev(rol)"
   ]
  },
  {
   "cell_type": "markdown",
   "id": "e8b83bec",
   "metadata": {},
   "source": [
    "(d) Faça uma representação gráfica para a distribuição."
   ]
  },
  {
   "cell_type": "markdown",
   "id": "c5a3fea4",
   "metadata": {},
   "source": [
    "# 2. As taxas de juros recebidas por 10 ações durante um certo período foram (medidas em porcentagem) 2,59; 2,64; 2,60; 2,62; 2,57; 2,55; 2,61; 2,50; 2,63; 2,64. Calcule a média, a mediana e o desvio padrão."
   ]
  },
  {
   "cell_type": "code",
   "execution_count": 8,
   "id": "cc4e41ee",
   "metadata": {},
   "outputs": [],
   "source": [
    "valores = [2.59, 2.64, 2.60, 2.62, 2.57, 2.55, 2.61, 2.50, 2.63, 2.64]"
   ]
  },
  {
   "cell_type": "markdown",
   "id": "f7f7347f",
   "metadata": {},
   "source": [
    "Média"
   ]
  },
  {
   "cell_type": "code",
   "execution_count": 9,
   "id": "0954303e",
   "metadata": {},
   "outputs": [
    {
     "data": {
      "text/plain": [
       "[2.59, 2.64, 2.6, 2.62, 2.57, 2.55, 2.61, 2.5, 2.63, 2.64]"
      ]
     },
     "execution_count": 9,
     "metadata": {},
     "output_type": "execute_result"
    }
   ],
   "source": [
    "valores"
   ]
  },
  {
   "cell_type": "code",
   "execution_count": 10,
   "id": "5c2bab0f",
   "metadata": {},
   "outputs": [
    {
     "data": {
      "text/plain": [
       "2.5949999999999998"
      ]
     },
     "execution_count": 10,
     "metadata": {},
     "output_type": "execute_result"
    }
   ],
   "source": [
    "media = sum(valores) / len(valores)\n",
    "media"
   ]
  },
  {
   "cell_type": "markdown",
   "id": "8332d233",
   "metadata": {},
   "source": [
    "Mediana"
   ]
  },
  {
   "cell_type": "code",
   "execution_count": 11,
   "id": "760daabc",
   "metadata": {},
   "outputs": [
    {
     "data": {
      "text/plain": [
       "2.605"
      ]
     },
     "execution_count": 11,
     "metadata": {},
     "output_type": "execute_result"
    }
   ],
   "source": [
    "mediana = median(valores)\n",
    "mediana"
   ]
  },
  {
   "cell_type": "markdown",
   "id": "540cde0c",
   "metadata": {},
   "source": [
    "Desvio Padrão"
   ]
  },
  {
   "cell_type": "code",
   "execution_count": 12,
   "id": "d5813aac",
   "metadata": {},
   "outputs": [
    {
     "data": {
      "text/plain": [
       "0.04453463071962468"
      ]
     },
     "execution_count": 12,
     "metadata": {},
     "output_type": "execute_result"
    }
   ],
   "source": [
    "desvioPadrao = statistics.stdev(valores)\n",
    "desvioPadrao"
   ]
  },
  {
   "cell_type": "markdown",
   "id": "e7734094",
   "metadata": {},
   "source": [
    "# 3. Para facilitar um projeto de ampliação da rede de esgoto de uma certa região de uma cidade, as autoridades tomaram uma amostra de tamanho 50 dos 270 quarteirões que compõem a região, e foram encontrados os seguintes números de casas por quarteirão:"
   ]
  },
  {
   "cell_type": "code",
   "execution_count": 13,
   "id": "b3998a96",
   "metadata": {},
   "outputs": [],
   "source": [
    "casos = [2, 2, 3, 10, 13, 14, 15, 15, 16, 16, 18, 18, 20, 21, 22, 22, 23, 24, 25, 25, 26, 27, 29, 29, 30, 32, 36, 42, 44, 45, 45, 46, 48, 52, 58, 59, 61, 61, 61, 65, 66, 66, 68, 75, 78, 80, 89, 90, 92, 97]"
   ]
  },
  {
   "cell_type": "code",
   "execution_count": 14,
   "id": "79fedfb0",
   "metadata": {},
   "outputs": [
    {
     "data": {
      "text/html": [
       "<div>\n",
       "<style scoped>\n",
       "    .dataframe tbody tr th:only-of-type {\n",
       "        vertical-align: middle;\n",
       "    }\n",
       "\n",
       "    .dataframe tbody tr th {\n",
       "        vertical-align: top;\n",
       "    }\n",
       "\n",
       "    .dataframe thead th {\n",
       "        text-align: right;\n",
       "    }\n",
       "</style>\n",
       "<table border=\"1\" class=\"dataframe\">\n",
       "  <thead>\n",
       "    <tr style=\"text-align: right;\">\n",
       "      <th></th>\n",
       "      <th>Casos</th>\n",
       "    </tr>\n",
       "  </thead>\n",
       "  <tbody>\n",
       "    <tr>\n",
       "      <th>0</th>\n",
       "      <td>2</td>\n",
       "    </tr>\n",
       "    <tr>\n",
       "      <th>1</th>\n",
       "      <td>2</td>\n",
       "    </tr>\n",
       "    <tr>\n",
       "      <th>2</th>\n",
       "      <td>3</td>\n",
       "    </tr>\n",
       "    <tr>\n",
       "      <th>3</th>\n",
       "      <td>10</td>\n",
       "    </tr>\n",
       "    <tr>\n",
       "      <th>4</th>\n",
       "      <td>13</td>\n",
       "    </tr>\n",
       "  </tbody>\n",
       "</table>\n",
       "</div>"
      ],
      "text/plain": [
       "   Casos\n",
       "0      2\n",
       "1      2\n",
       "2      3\n",
       "3     10\n",
       "4     13"
      ]
     },
     "execution_count": 14,
     "metadata": {},
     "output_type": "execute_result"
    }
   ],
   "source": [
    "df = pd.DataFrame({\"Casos\": casos})\n",
    "df.head()"
   ]
  },
  {
   "cell_type": "code",
   "execution_count": 15,
   "id": "969efb93",
   "metadata": {},
   "outputs": [],
   "source": [
    "def dist_frequencia_classes(x, nc='auto'):\n",
    "    #função histogram do numpy para calcular as freq. absolutas e intervalos das classes\n",
    "    fa,classes= np.histogram(x, bins=nc) \n",
    "    fa = fa.astype(int)#pra transformar em int \n",
    "    #freq. relativas = freq. absolutas/no. de dados do conjunto x 100 pra forma percentual\n",
    "    fr = np.around(fa/fa.sum()*100,decimals=2) #duas casas decimais\n",
    "    #freq. cumulativa usando a função cumsum do numpy\n",
    "    #frnorm = np.around(fi/(fi.sum() * np.diff(classes)),decimals=2)\n",
    "    fc = np.cumsum(fa).astype(int) #pra transformar em int \n",
    "    # o laço a seguir serve unicamente para escrever os intervalos das classes como strings\n",
    "    # dentro do vetor 'classe_str'\n",
    "    classe_str = []\n",
    "    for i in range(len(classes)):\n",
    "        if i<=len(classes)-2:\n",
    "            classe_str.append('{:2.2f} |-- {:2.2f}' .format(classes[i],classes[i+1]))\n",
    "        else:\n",
    "            break        \n",
    "    # a função retorna um dataframe, cujas linhas serão indexadas pelo vetor 'classe_str', e as \n",
    "    #colunas terão as frequências absoluta (inteira), relativa (float) e cumulativa (int) calculadas \n",
    "    return pd.DataFrame({'Classes':classe_str, \n",
    "                         'fi': fa,\n",
    "                         'fr': fr,\n",
    "                         #'frnorm':frnorm,\n",
    "                         'Fc': fc\n",
    "                        }).set_index('Classes') # transforma a coluna 'Classes' nos indices das linhas \n"
   ]
  },
  {
   "cell_type": "code",
   "execution_count": 16,
   "id": "e5c6b1bb",
   "metadata": {},
   "outputs": [
    {
     "data": {
      "text/html": [
       "<div>\n",
       "<style scoped>\n",
       "    .dataframe tbody tr th:only-of-type {\n",
       "        vertical-align: middle;\n",
       "    }\n",
       "\n",
       "    .dataframe tbody tr th {\n",
       "        vertical-align: top;\n",
       "    }\n",
       "\n",
       "    .dataframe thead th {\n",
       "        text-align: right;\n",
       "    }\n",
       "</style>\n",
       "<table border=\"1\" class=\"dataframe\">\n",
       "  <thead>\n",
       "    <tr style=\"text-align: right;\">\n",
       "      <th></th>\n",
       "      <th>fi</th>\n",
       "      <th>fr</th>\n",
       "      <th>Fc</th>\n",
       "    </tr>\n",
       "    <tr>\n",
       "      <th>Classes</th>\n",
       "      <th></th>\n",
       "      <th></th>\n",
       "      <th></th>\n",
       "    </tr>\n",
       "  </thead>\n",
       "  <tbody>\n",
       "    <tr>\n",
       "      <th>2.00 |-- 21.00</th>\n",
       "      <td>13</td>\n",
       "      <td>26.0</td>\n",
       "      <td>13</td>\n",
       "    </tr>\n",
       "    <tr>\n",
       "      <th>21.00 |-- 40.00</th>\n",
       "      <td>14</td>\n",
       "      <td>28.0</td>\n",
       "      <td>27</td>\n",
       "    </tr>\n",
       "    <tr>\n",
       "      <th>40.00 |-- 59.00</th>\n",
       "      <td>8</td>\n",
       "      <td>16.0</td>\n",
       "      <td>35</td>\n",
       "    </tr>\n",
       "    <tr>\n",
       "      <th>59.00 |-- 78.00</th>\n",
       "      <td>9</td>\n",
       "      <td>18.0</td>\n",
       "      <td>44</td>\n",
       "    </tr>\n",
       "    <tr>\n",
       "      <th>78.00 |-- 97.00</th>\n",
       "      <td>6</td>\n",
       "      <td>12.0</td>\n",
       "      <td>50</td>\n",
       "    </tr>\n",
       "  </tbody>\n",
       "</table>\n",
       "</div>"
      ],
      "text/plain": [
       "                 fi    fr  Fc\n",
       "Classes                      \n",
       "2.00 |-- 21.00   13  26.0  13\n",
       "21.00 |-- 40.00  14  28.0  27\n",
       "40.00 |-- 59.00   8  16.0  35\n",
       "59.00 |-- 78.00   9  18.0  44\n",
       "78.00 |-- 97.00   6  12.0  50"
      ]
     },
     "execution_count": 16,
     "metadata": {},
     "output_type": "execute_result"
    }
   ],
   "source": [
    "dist_frequencia_classes(casos, nc=5)"
   ]
  },
  {
   "cell_type": "markdown",
   "id": "bb95aadc",
   "metadata": {},
   "source": [
    "a) Use cinco intervalos e construa um histograma."
   ]
  },
  {
   "cell_type": "code",
   "execution_count": 17,
   "id": "837637f5",
   "metadata": {},
   "outputs": [
    {
     "data": {
      "text/plain": [
       "<AxesSubplot:>"
      ]
     },
     "execution_count": 17,
     "metadata": {},
     "output_type": "execute_result"
    },
    {
     "data": {
      "image/png": "[encoded data removed]",
      "text/plain": [
       "<Figure size 432x288 with 1 Axes>"
      ]
     },
     "metadata": {
      "needs_background": "light"
     },
     "output_type": "display_data"
    }
   ],
   "source": [
    "df['Casos'].hist()"
   ]
  },
  {
   "cell_type": "markdown",
   "id": "32982c24",
   "metadata": {},
   "source": [
    "(b) Determine uma medida de posição central e uma medida de dispersão"
   ]
  },
  {
   "cell_type": "code",
   "execution_count": 18,
   "id": "ebece4ab",
   "metadata": {},
   "outputs": [
    {
     "data": {
      "text/plain": [
       "Casos    40.42\n",
       "dtype: float64"
      ]
     },
     "execution_count": 18,
     "metadata": {},
     "output_type": "execute_result"
    }
   ],
   "source": [
    "df.mean() #média como medida de posição central"
   ]
  },
  {
   "cell_type": "code",
   "execution_count": 19,
   "id": "a93923a2",
   "metadata": {},
   "outputs": [
    {
     "data": {
      "text/plain": [
       "26.07688005627567"
      ]
     },
     "execution_count": 19,
     "metadata": {},
     "output_type": "execute_result"
    }
   ],
   "source": [
    "df['Casos'].std() #desvio padrão como medida de dispersão"
   ]
  },
  {
   "cell_type": "markdown",
   "id": "dfd63b6a",
   "metadata": {},
   "source": [
    "# 4ª Questão"
   ]
  },
  {
   "cell_type": "markdown",
   "id": "26fa9069",
   "metadata": {},
   "source": [
    " (a) Dê uma situação prática onde você acha que a mediana é uma medida mais apropriada do que a média."
   ]
  },
  {
   "cell_type": "markdown",
   "id": "39ec37a3",
   "metadata": {},
   "source": [
    "Quando uma variável possui valores distantes que fazem a média tender pra mais ou menos do que deveria."
   ]
  },
  {
   "cell_type": "markdown",
   "id": "46b60910",
   "metadata": {},
   "source": [
    "(b) Esboce um histograma onde a média e a mediana coincidem. Existe alguma classe\n",
    "de histogramas onde isso sempre acontece?"
   ]
  },
  {
   "cell_type": "code",
   "execution_count": 20,
   "id": "c997bbf3",
   "metadata": {},
   "outputs": [
    {
     "data": {
      "text/html": [
       "<div>\n",
       "<style scoped>\n",
       "    .dataframe tbody tr th:only-of-type {\n",
       "        vertical-align: middle;\n",
       "    }\n",
       "\n",
       "    .dataframe tbody tr th {\n",
       "        vertical-align: top;\n",
       "    }\n",
       "\n",
       "    .dataframe thead th {\n",
       "        text-align: right;\n",
       "    }\n",
       "</style>\n",
       "<table border=\"1\" class=\"dataframe\">\n",
       "  <thead>\n",
       "    <tr style=\"text-align: right;\">\n",
       "      <th></th>\n",
       "      <th>Dados</th>\n",
       "    </tr>\n",
       "  </thead>\n",
       "  <tbody>\n",
       "    <tr>\n",
       "      <th>0</th>\n",
       "      <td>6</td>\n",
       "    </tr>\n",
       "    <tr>\n",
       "      <th>1</th>\n",
       "      <td>6</td>\n",
       "    </tr>\n",
       "    <tr>\n",
       "      <th>2</th>\n",
       "      <td>6</td>\n",
       "    </tr>\n",
       "    <tr>\n",
       "      <th>3</th>\n",
       "      <td>6</td>\n",
       "    </tr>\n",
       "    <tr>\n",
       "      <th>4</th>\n",
       "      <td>6</td>\n",
       "    </tr>\n",
       "    <tr>\n",
       "      <th>5</th>\n",
       "      <td>6</td>\n",
       "    </tr>\n",
       "  </tbody>\n",
       "</table>\n",
       "</div>"
      ],
      "text/plain": [
       "   Dados\n",
       "0      6\n",
       "1      6\n",
       "2      6\n",
       "3      6\n",
       "4      6\n",
       "5      6"
      ]
     },
     "execution_count": 20,
     "metadata": {},
     "output_type": "execute_result"
    }
   ],
   "source": [
    "dados = [6,6,6,6,6,6]\n",
    "newDF = df = pd.DataFrame({\"Dados\": dados})\n",
    "newDF"
   ]
  },
  {
   "cell_type": "code",
   "execution_count": 33,
   "id": "26ce3d39",
   "metadata": {},
   "outputs": [
    {
     "data": {
      "text/plain": [
       "<AxesSubplot:>"
      ]
     },
     "execution_count": 33,
     "metadata": {},
     "output_type": "execute_result"
    },
    {
     "data": {
      "image/png": "[encoded data removed]",
      "text/plain": [
       "<Figure size 432x288 with 1 Axes>"
      ]
     },
     "metadata": {
      "needs_background": "light"
     },
     "output_type": "display_data"
    }
   ],
   "source": [
    "newDF['Dados'].hist()"
   ]
  },
  {
   "cell_type": "code",
   "execution_count": 21,
   "id": "0f041315",
   "metadata": {},
   "outputs": [
    {
     "data": {
      "text/plain": [
       "Dados    6.0\n",
       "dtype: float64"
      ]
     },
     "execution_count": 21,
     "metadata": {},
     "output_type": "execute_result"
    }
   ],
   "source": [
    "newDF.mean()"
   ]
  },
  {
   "cell_type": "code",
   "execution_count": 22,
   "id": "ff71bac9",
   "metadata": {},
   "outputs": [
    {
     "data": {
      "text/plain": [
       "Dados    6.0\n",
       "dtype: float64"
      ]
     },
     "execution_count": 22,
     "metadata": {},
     "output_type": "execute_result"
    }
   ],
   "source": [
    "newDF.mean()"
   ]
  },
  {
   "cell_type": "code",
   "execution_count": 23,
   "id": "f214f97f",
   "metadata": {},
   "outputs": [
    {
     "data": {
      "text/plain": [
       "Dados    True\n",
       "dtype: bool"
      ]
     },
     "execution_count": 23,
     "metadata": {},
     "output_type": "execute_result"
    }
   ],
   "source": [
    "#Mediana = Média\n",
    "newDF.mean() == newDF.mean()"
   ]
  },
  {
   "cell_type": "markdown",
   "id": "69dbfbbe",
   "metadata": {},
   "source": [
    "# 5. Suponha que a variável de interesse tenha a distribuição como na figura abaixo."
   ]
  },
  {
   "cell_type": "markdown",
   "id": "ab62bce4",
   "metadata": {},
   "source": [
    "Você acha que a média é uma boa medida de posição? E a mediana? Justifique.\n"
   ]
  },
  {
   "cell_type": "markdown",
   "id": "4431395b",
   "metadata": {},
   "source": [
    "Não, porque há muitos valores extremos, vários acima e outros muito abaixo. "
   ]
  },
  {
   "cell_type": "markdown",
   "id": "35957f79",
   "metadata": {},
   "source": [
    "# 6. Numa pesquisa realizada com 100 famílias, levantaram-se as seguintes informações:"
   ]
  },
  {
   "cell_type": "markdown",
   "id": "20a60dc3",
   "metadata": {},
   "source": [
    "(a) Qual a mediana do número de filhos?"
   ]
  },
  {
   "cell_type": "code",
   "execution_count": 27,
   "id": "f30a2d8d",
   "metadata": {},
   "outputs": [
    {
     "data": {
      "text/html": [
       "<div>\n",
       "<style scoped>\n",
       "    .dataframe tbody tr th:only-of-type {\n",
       "        vertical-align: middle;\n",
       "    }\n",
       "\n",
       "    .dataframe tbody tr th {\n",
       "        vertical-align: top;\n",
       "    }\n",
       "\n",
       "    .dataframe thead th {\n",
       "        text-align: right;\n",
       "    }\n",
       "</style>\n",
       "<table border=\"1\" class=\"dataframe\">\n",
       "  <thead>\n",
       "    <tr style=\"text-align: right;\">\n",
       "      <th></th>\n",
       "      <th>Nº Filhos</th>\n",
       "      <th>Frequência de familias</th>\n",
       "    </tr>\n",
       "  </thead>\n",
       "  <tbody>\n",
       "    <tr>\n",
       "      <th>0</th>\n",
       "      <td>0</td>\n",
       "      <td>17</td>\n",
       "    </tr>\n",
       "    <tr>\n",
       "      <th>1</th>\n",
       "      <td>1</td>\n",
       "      <td>20</td>\n",
       "    </tr>\n",
       "    <tr>\n",
       "      <th>2</th>\n",
       "      <td>2</td>\n",
       "      <td>28</td>\n",
       "    </tr>\n",
       "    <tr>\n",
       "      <th>3</th>\n",
       "      <td>3</td>\n",
       "      <td>19</td>\n",
       "    </tr>\n",
       "    <tr>\n",
       "      <th>4</th>\n",
       "      <td>4</td>\n",
       "      <td>7</td>\n",
       "    </tr>\n",
       "    <tr>\n",
       "      <th>5</th>\n",
       "      <td>5</td>\n",
       "      <td>4</td>\n",
       "    </tr>\n",
       "    <tr>\n",
       "      <th>6</th>\n",
       "      <td>&gt;=6</td>\n",
       "      <td>5</td>\n",
       "    </tr>\n",
       "  </tbody>\n",
       "</table>\n",
       "</div>"
      ],
      "text/plain": [
       "  Nº Filhos  Frequência de familias\n",
       "0         0                      17\n",
       "1         1                      20\n",
       "2         2                      28\n",
       "3         3                      19\n",
       "4         4                       7\n",
       "5         5                       4\n",
       "6       >=6                       5"
      ]
     },
     "execution_count": 27,
     "metadata": {},
     "output_type": "execute_result"
    }
   ],
   "source": [
    "numeroDeFilhos = [\"0\", \"1\", \"2\", \"3\", \"4\", \"5\", \">=6\"]\n",
    "frequencia1 = [17, 20, 28, 19, 7, 4, 5]\n",
    "\n",
    "tabela1 = pd.DataFrame({\"Nº Filhos\": numeroDeFilhos,\n",
    "\"Frequência de familias\": frequencia1})\n",
    "\n",
    "tabela1"
   ]
  },
  {
   "cell_type": "code",
   "execution_count": 29,
   "id": "e24e85ce",
   "metadata": {},
   "outputs": [
    {
     "name": "stdout",
     "output_type": "stream",
     "text": [
      "[0, 0, 0, 0, 0, 0, 0, 0, 0, 0, 0, 0, 0, 0, 0, 0, 0, 1, 1, 1, 1, 1, 1, 1, 1, 1, 1, 1, 1, 1, 1, 1, 1, 1, 1, 1, 1, 2, 2, 2, 2, 2, 2, 2, 2, 2, 2, 2, 2, 2, 2, 2, 2, 2, 2, 2, 2, 2, 2, 2, 2, 2, 2, 2, 2, 3, 3, 3, 3, 3, 3, 3, 3, 3, 3, 3, 3, 3, 3, 3, 3, 3, 3, 3, 4, 4, 4, 4, 4, 4, 4, 5, 5, 5, 5, 6, 6, 6, 6, 6]\n"
     ]
    }
   ],
   "source": [
    "numeroDeFilhos = [0, 1, 2, 3, 4, 5, 6] #transformando em lista de inteiros e assumindo 6 como mais que 5\n",
    "rol1 = []\n",
    "\n",
    "for i in range(len(frequencia1)):\n",
    "    for j in range(frequencia1[i]):\n",
    "        rol1.append(numeroDeFilhos[i])\n",
    "\n"
   ]
  },
  {
   "cell_type": "code",
   "execution_count": 37,
   "id": "c93479cb",
   "metadata": {},
   "outputs": [
    {
     "data": {
      "text/plain": [
       "2.0"
      ]
     },
     "execution_count": 37,
     "metadata": {},
     "output_type": "execute_result"
    }
   ],
   "source": [
    "#Mediana\n",
    "median(rol1) "
   ]
  },
  {
   "cell_type": "markdown",
   "id": "2752e1d1",
   "metadata": {},
   "source": [
    "(b) E a moda?"
   ]
  },
  {
   "cell_type": "code",
   "execution_count": 39,
   "id": "ec62ff29",
   "metadata": {},
   "outputs": [
    {
     "data": {
      "text/plain": [
       "2"
      ]
     },
     "execution_count": 39,
     "metadata": {},
     "output_type": "execute_result"
    }
   ],
   "source": [
    "# moda\n",
    "statistics.mode(rol1)"
   ]
  },
  {
   "cell_type": "markdown",
   "id": "c6c380b1",
   "metadata": {},
   "source": [
    "(c) Que problemas você enfrentaria para calcular a média? Faça alguma suposição e\n",
    "encontre-a."
   ]
  },
  {
   "cell_type": "markdown",
   "id": "ba52b740",
   "metadata": {},
   "source": [
    "O problema está em não saber qual valores são os maiores que 5. Eles podem ir de 6 a 30, por exemplo, e influenciar diretamente na média."
   ]
  }
 ],
 "metadata": {
  "kernelspec": {
   "display_name": "Python 3",
   "language": "python",
   "name": "python3"
  },
  "language_info": {
   "codemirror_mode": {
    "name": "ipython",
    "version": 3
   },
   "file_extension": ".py",
   "mimetype": "text/x-python",
   "name": "python",
   "nbconvert_exporter": "python",
   "pygments_lexer": "ipython3",
   "version": "3.8.8"
  }
 },
 "nbformat": 4,
 "nbformat_minor": 5
}
