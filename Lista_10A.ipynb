{
 "cells": [
  {
   "cell_type": "markdown",
   "id": "d875d805",
   "metadata": {},
   "source": [
    "# Exercício 1: Dê uma olhada na documentação da função plot, e veja como modificar o tipo de linha, a cor dela, acrescentar um grid e um título ao seu gráfico e aos eixos."
   ]
  },
  {
   "cell_type": "markdown",
   "id": "e20f751c",
   "metadata": {},
   "source": [
    "Para definir essas formatações pode-se usar o parâmetro opcional “fmt”. "
   ]
  },
  {
   "cell_type": "markdown",
   "id": "532a4b72",
   "metadata": {},
   "source": [
    "# Exercício: 2 As configurações feitas no exercício anterior podem ser usadas também no método `plot` da biblioteca `pandas`?"
   ]
  },
  {
   "cell_type": "markdown",
   "id": "4109177b",
   "metadata": {},
   "source": [
    "Sim."
   ]
  },
  {
   "cell_type": "markdown",
   "id": "56300fa1",
   "metadata": {},
   "source": [
    "# Exercício 3: Você deve ter percebido que o gráfico foi aplicado sobre a distribuição de frequência (a) e não o conjunto de dados crus (var). Explique porque isso é necessário."
   ]
  },
  {
   "cell_type": "markdown",
   "id": "5a6ab5d6",
   "metadata": {},
   "source": [
    "Conceitualmente aplicação do gráfico de pizza ou setores se dá obrigatoriamente às frequências. Quando não se está em frequência, a depender da quantidade de elementos num conjunto de dados, fica difícil de mensurar a ponto de torna o gráfico fiel aos dados."
   ]
  },
  {
   "cell_type": "markdown",
   "id": "04a8cc95",
   "metadata": {},
   "source": [
    "# Exercício 4: É possível gerar gráficos em setores de um DataFrame inteiro, sem selecionar uma coluna especificamente? Justifique sua resposta."
   ]
  },
  {
   "cell_type": "markdown",
   "id": "36dc724d",
   "metadata": {},
   "source": [
    "De forma organizada, não. Caso não especifiquemos as variáveis, o resultado será um gráfico de setores com diversos agrupamentos, representando, provavelmente, cada valor existente no dataframe, indo de encontro ao número máximo de agrupamentos, dado que este número é superado."
   ]
  },
  {
   "cell_type": "markdown",
   "id": "11184b7e",
   "metadata": {},
   "source": [
    "# Exercício 5: Quais as desvantagens de se usar gráficos em setores? Pesquise nas referências disponíveis no começo desse notebook."
   ]
  },
  {
   "cell_type": "markdown",
   "id": "08c08aa2",
   "metadata": {},
   "source": [
    "Dificuldade na visualização da diferença entre fatias e a limitação de variáveis que podem ser usadas. "
   ]
  }
 ],
 "metadata": {
  "kernelspec": {
   "display_name": "Python 3",
   "language": "python",
   "name": "python3"
  },
  "language_info": {
   "codemirror_mode": {
    "name": "ipython",
    "version": 3
   },
   "file_extension": ".py",
   "mimetype": "text/x-python",
   "name": "python",
   "nbconvert_exporter": "python",
   "pygments_lexer": "ipython3",
   "version": "3.8.8"
  }
 },
 "nbformat": 4,
 "nbformat_minor": 5
}
